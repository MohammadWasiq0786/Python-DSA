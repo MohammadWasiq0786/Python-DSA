{
 "cells": [
  {
   "cell_type": "markdown",
   "id": "12a9ebfe",
   "metadata": {},
   "source": [
    "<center> <h1 style= \"color:red\"> Assignments-9 </h1> </center>\n",
    "\n",
    "<center> <h2 style= \"color:orange\"> File Handling </h2> </center>"
   ]
  },
  {
   "cell_type": "markdown",
   "id": "901047e1",
   "metadata": {},
   "source": [
    "<center> <h2 style= \"color:orange\"> Open, Read, Write, Append </h2> </center>\n",
    "\n",
    "1. Write a Python script to create a text file named students.txt and write 10 student names into it. \n",
    "2. Read the contents of students.txt and print each line prefixed by the line number. \n",
    "3. Append 5 more names to students.txt without overwriting existing content. \n",
    "4. Write a program that counts the total number of words in a given text file. \n",
    "5. Create a log file (activity.log) that records the timestamp whenever the script runs."
   ]
  },
  {
   "cell_type": "code",
   "execution_count": 1,
   "id": "61603017-48da-445d-8077-3efe393b00e5",
   "metadata": {
    "execution": {
     "iopub.execute_input": "2025-05-21T15:18:08.806800Z",
     "iopub.status.busy": "2025-05-21T15:18:08.805785Z",
     "iopub.status.idle": "2025-05-21T15:18:08.824779Z",
     "shell.execute_reply": "2025-05-21T15:18:08.822777Z",
     "shell.execute_reply.started": "2025-05-21T15:18:08.806800Z"
    }
   },
   "outputs": [],
   "source": [
    "import datetime\n",
    "\n",
    "# 1. Write 10 student names to students.txt\n",
    "students = [\"Alice\", \"Bob\", \"Charlie\", \"David\", \"Eva\", \"Frank\", \"Grace\", \"Hannah\", \"Ian\", \"Julia\"]\n",
    "with open(\"Assignment Data/students.txt\", \"w\") as file:\n",
    "    for name in students:\n",
    "        file.write(name + \"\\n\")"
   ]
  },
  {
   "cell_type": "code",
   "execution_count": 2,
   "id": "b9d54733",
   "metadata": {},
   "outputs": [
    {
     "name": "stdout",
     "output_type": "stream",
     "text": [
      "1. Alice\n",
      "2. Bob\n",
      "3. Charlie\n",
      "4. David\n",
      "5. Eva\n",
      "6. Frank\n",
      "7. Grace\n",
      "8. Hannah\n",
      "9. Ian\n",
      "10. Julia\n"
     ]
    }
   ],
   "source": [
    "# 2. Read and print each line with line number\n",
    "with open(\"Assignment Data/students.txt\", \"r\") as file:\n",
    "    for line_number, line in enumerate(file, start=1):\n",
    "        print(f\"{line_number}. {line.strip()}\")"
   ]
  },
  {
   "cell_type": "code",
   "execution_count": 3,
   "id": "df13ea47",
   "metadata": {},
   "outputs": [],
   "source": [
    "# 3. Append 5 more student names\n",
    "more_students = [\"Kevin\", \"Laura\", \"Mike\", \"Nina\", \"Oscar\"]\n",
    "with open(\"Assignment Data/students.txt\", \"a\") as file:\n",
    "    for name in more_students:\n",
    "        file.write(name + \"\\n\")"
   ]
  },
  {
   "cell_type": "code",
   "execution_count": 4,
   "id": "cd990ac2",
   "metadata": {},
   "outputs": [
    {
     "name": "stdout",
     "output_type": "stream",
     "text": [
      "\n",
      "Total number of words in students.txt: 15\n"
     ]
    }
   ],
   "source": [
    "# 4. Count total number of words in the file\n",
    "word_count = 0\n",
    "with open(\"Assignment Data/students.txt\", \"r\") as file:\n",
    "    for line in file:\n",
    "        word_count += len(line.split())\n",
    "print(f\"\\nTotal number of words in students.txt: {word_count}\")"
   ]
  },
  {
   "cell_type": "code",
   "execution_count": 5,
   "id": "26835b00",
   "metadata": {},
   "outputs": [],
   "source": [
    "# 5. Create a log file with timestamp\n",
    "with open(\"Assignment Data/activity.log\", \"a\") as log:\n",
    "    timestamp = datetime.datetime.now().strftime(\"%Y-%m-%d %H:%M:%S\")\n",
    "    log.write(f\"Script run at: {timestamp}\\n\")\n"
   ]
  },
  {
   "cell_type": "markdown",
   "id": "a497bb73",
   "metadata": {},
   "source": [
    "<center> <h2 style= \"color:orange\"> File Modes & Pointers </h2> </center>\n",
    "\n",
    "6. Demonstrate the difference between 'r' and 'r+' mode by reading and updating a file. \n",
    "7. Use 'w+' mode to create a file, write data, then read it back without closing the file. \n",
    "8. Open a file in binary mode ('rb') and display the byte contents. \n",
    "9. Create a file, write multiple lines, then use seek() to read from a specific position. \n",
    "10. Use tell() to print the current file pointer position while reading the file."
   ]
  },
  {
   "cell_type": "code",
   "execution_count": 6,
   "id": "30a971ea",
   "metadata": {},
   "outputs": [],
   "source": [
    "# 6. 'r' vs 'r+' mode\n",
    "# Create a sample file first\n",
    "with open(\"Assignment Data/sample.txt\", \"w\") as f:\n",
    "    f.write(\"Initial content.\")"
   ]
  },
  {
   "cell_type": "code",
   "execution_count": 7,
   "id": "ff639251",
   "metadata": {},
   "outputs": [
    {
     "name": "stdout",
     "output_type": "stream",
     "text": [
      "Error with 'r' mode: [Errno 2] No such file or directory: 'sAssignment Data/ample.txt'\n"
     ]
    }
   ],
   "source": [
    "# 'r' mode – read only\n",
    "try:\n",
    "    with open(\"sAssignment Data/ample.txt\", \"r\") as f:\n",
    "        print(\"Reading with 'r':\", f.read())\n",
    "        # Uncommenting the next line will throw an error\n",
    "        # f.write(\"Trying to write\")  # IOError: not writable\n",
    "except Exception as e:\n",
    "    print(\"Error with 'r' mode:\", e)"
   ]
  },
  {
   "cell_type": "code",
   "execution_count": 8,
   "id": "e36ea638",
   "metadata": {},
   "outputs": [
    {
     "name": "stdout",
     "output_type": "stream",
     "text": [
      "Reading with 'r+': Initial content.\n"
     ]
    }
   ],
   "source": [
    "# 'r+' mode – read and write\n",
    "with open(\"Assignment Data/sample.txt\", \"r+\") as f:\n",
    "    content = f.read()\n",
    "    print(\"Reading with 'r+':\", content)\n",
    "    f.seek(0)\n",
    "    f.write(\"Updated!\")  # This will overwrite at the start"
   ]
  },
  {
   "cell_type": "code",
   "execution_count": 9,
   "id": "5c2e3c22",
   "metadata": {},
   "outputs": [
    {
     "name": "stdout",
     "output_type": "stream",
     "text": [
      "Reading from 'w+' without closing: This is written using w+ mode.\n"
     ]
    }
   ],
   "source": [
    "# 7. 'w+' mode – write then read without closing\n",
    "with open(\"Assignment Data/temp.txt\", \"w+\") as f:\n",
    "    f.write(\"This is written using w+ mode.\")\n",
    "    f.seek(0)\n",
    "    print(\"Reading from 'w+' without closing:\", f.read())"
   ]
  },
  {
   "cell_type": "code",
   "execution_count": 10,
   "id": "c7dc8474",
   "metadata": {},
   "outputs": [],
   "source": [
    "# 8. Open file in binary mode ('rb')\n",
    "with open(\"Assignment Data/binary_sample.txt\", \"wb\") as f:\n",
    "    f.write(b\"\\x48\\x65\\x6C\\x6C\\x6F\")  # Writing 'Hello' in bytes"
   ]
  },
  {
   "cell_type": "code",
   "execution_count": 11,
   "id": "0628bda7",
   "metadata": {},
   "outputs": [
    {
     "name": "stdout",
     "output_type": "stream",
     "text": [
      "Binary contents: b'Hello'\n"
     ]
    }
   ],
   "source": [
    "with open(\"Assignment Data/binary_sample.txt\", \"rb\") as f:\n",
    "    byte_data = f.read()\n",
    "    print(\"Binary contents:\", byte_data)"
   ]
  },
  {
   "cell_type": "code",
   "execution_count": 12,
   "id": "ad141072",
   "metadata": {},
   "outputs": [],
   "source": [
    "# 9. Use seek() to read from a specific position\n",
    "with open(\"Assignment Data/lines.txt\", \"w\") as f:\n",
    "    f.write(\"Line 1\\nLine 2\\nLine 3\\nLine 4\")"
   ]
  },
  {
   "cell_type": "code",
   "execution_count": 13,
   "id": "865214a4",
   "metadata": {},
   "outputs": [
    {
     "name": "stdout",
     "output_type": "stream",
     "text": [
      "From position 7: \n",
      "Line 2\n",
      "Line 3\n",
      "Line 4\n"
     ]
    }
   ],
   "source": [
    "with open(\"Assignment Data/lines.txt\", \"r\") as f:\n",
    "    f.seek(7)  # Skip 'Line 1\\n'\n",
    "    print(\"From position 7:\", f.read())"
   ]
  },
  {
   "cell_type": "code",
   "execution_count": 14,
   "id": "50022c16",
   "metadata": {},
   "outputs": [
    {
     "name": "stdout",
     "output_type": "stream",
     "text": [
      "Initial pointer: 0\n",
      "After reading 5 characters: 5\n"
     ]
    }
   ],
   "source": [
    "# 10. Use tell() to show current file pointer\n",
    "with open(\"Assignment Data/students.txt\", \"r\") as f:\n",
    "    print(\"Initial pointer:\", f.tell())\n",
    "    f.read(5)\n",
    "    print(\"After reading 5 characters:\", f.tell())"
   ]
  },
  {
   "cell_type": "markdown",
   "id": "dfeffdf6",
   "metadata": {},
   "source": [
    "<center> <h2 style= \"color:orange\"> File Context Manager (with statement) </h2> </center>\n",
    "\n",
    "11. Rewrite Question 1 using a context manager to ensure the file closes automatically. \n",
    "12. Create a script that reads a file using a context manager and handles FileNotFoundError. \n",
    "13. Using a context manager, read students.txt and store all lines in a list. \n",
    "14. Write a program to safely overwrite a file using a context manager and confirm data is saved. \n",
    "15. Demonstrate reading and writing files simultaneously with nested with blocks. "
   ]
  },
  {
   "cell_type": "code",
   "execution_count": 15,
   "id": "eb12f2dc",
   "metadata": {},
   "outputs": [],
   "source": [
    "# 11. Create `students.txt` and write 10 student names (with context manager)\n",
    "\n",
    "students = [\"Alice\", \"Bob\", \"Charlie\", \"Diana\", \"Ethan\", \"Fiona\", \"George\", \"Hannah\", \"Ian\", \"Julia\"]\n",
    "\n",
    "with open(\"Assignment Data/students.txt\", \"w\") as file:\n",
    "    for name in students:\n",
    "        file.write(name + \"\\n\")"
   ]
  },
  {
   "cell_type": "code",
   "execution_count": 16,
   "id": "a7c6f84a",
   "metadata": {},
   "outputs": [
    {
     "name": "stdout",
     "output_type": "stream",
     "text": [
      "Error: The file was not found.\n"
     ]
    }
   ],
   "source": [
    "# 12 Read a file with error handling using context manager\n",
    "\n",
    "try:\n",
    "    with open(\"Assignment Data/somefile.txt\", \"r\") as file:\n",
    "        print(file.read())\n",
    "except FileNotFoundError:\n",
    "    print(\"Error: The file was not found.\")"
   ]
  },
  {
   "cell_type": "code",
   "execution_count": 17,
   "id": "6b9c680a",
   "metadata": {},
   "outputs": [
    {
     "name": "stdout",
     "output_type": "stream",
     "text": [
      "Lines as list: ['Alice\\n', 'Bob\\n', 'Charlie\\n', 'Diana\\n', 'Ethan\\n', 'Fiona\\n', 'George\\n', 'Hannah\\n', 'Ian\\n', 'Julia\\n']\n"
     ]
    }
   ],
   "source": [
    "# 13 Read `students.txt` and store lines in a list\n",
    "\n",
    "with open(\"Assignment Data/students.txt\", \"r\") as file:\n",
    "    lines = file.readlines()\n",
    "\n",
    "print(\"Lines as list:\", lines)"
   ]
  },
  {
   "cell_type": "code",
   "execution_count": 18,
   "id": "a53352b6",
   "metadata": {},
   "outputs": [],
   "source": [
    "# 14 Safely overwrite a file and confirm write\n",
    "\n",
    "new_data = [\"Math\", \"Science\", \"English\", \"History\"]\n",
    "\n",
    "with open(\"Assignment Data/subjects.txt\", \"w\") as file:\n",
    "    for item in new_data:\n",
    "        file.write(item + \"\\n\")"
   ]
  },
  {
   "cell_type": "code",
   "execution_count": 19,
   "id": "3270cfb9",
   "metadata": {},
   "outputs": [
    {
     "name": "stdout",
     "output_type": "stream",
     "text": [
      "Updated contents:\n",
      " Math\n",
      "Science\n",
      "English\n",
      "History\n",
      "\n"
     ]
    }
   ],
   "source": [
    "# Confirming the write\n",
    "with open(\"Assignment Data/subjects.txt\", \"r\") as file:\n",
    "    print(\"Updated contents:\\n\", file.read())"
   ]
  },
  {
   "cell_type": "code",
   "execution_count": 20,
   "id": "13055d5a",
   "metadata": {},
   "outputs": [],
   "source": [
    "# 15 Nested context managers for simultaneous read/write\n",
    "\n",
    "with open(\"Assignment Data/students.txt\", \"r\") as reader:\n",
    "    data = reader.read()"
   ]
  },
  {
   "cell_type": "code",
   "execution_count": 21,
   "id": "b1bf9324",
   "metadata": {},
   "outputs": [],
   "source": [
    "with open(\"Assignment Data/students_copy.txt\", \"w\") as writer:\n",
    "    writer.write(data)"
   ]
  },
  {
   "cell_type": "code",
   "execution_count": 22,
   "id": "11f67e3c",
   "metadata": {},
   "outputs": [],
   "source": [
    "# Or even nested inside one block:\n",
    "\n",
    "with open(\"Assignment Data/students.txt\", \"r\") as reader, open(\"students_copy.txt\", \"w\") as writer:\n",
    "    for line in reader:\n",
    "        writer.write(line)"
   ]
  },
  {
   "cell_type": "markdown",
   "id": "df01f13e",
   "metadata": {},
   "source": [
    "<center> <h2 style= \"color:orange\"> CSV Handling (csv.reader, csv.DictWriter) </h2> </center>\n",
    "\n",
    "16. Create a CSV file employees.csv with headers: Name, Department, Salary. \n",
    "17. Write 5 employee records into employees.csv using csv.DictWriter. \n",
    "18. Read employees.csv and display all records sorted by Salary descending. \n",
    "19. Write a script that filters all employees in the “Sales” department and writes them to a new CSV. \n",
    "20. Convert employees.csv into a list of dictionaries and print them."
   ]
  },
  {
   "cell_type": "code",
   "execution_count": 23,
   "id": "db1ffc6d",
   "metadata": {},
   "outputs": [],
   "source": [
    "# 16 Create `employees.csv` with headers\n",
    "import csv\n",
    "\n",
    "with open(\"Assignment Data/employees.csv\", \"w\", newline=\"\") as file:\n",
    "    writer = csv.DictWriter(file, fieldnames=[\"Name\", \"Department\", \"Salary\"])\n",
    "    writer.writeheader()"
   ]
  },
  {
   "cell_type": "code",
   "execution_count": 24,
   "id": "9646e342",
   "metadata": {},
   "outputs": [],
   "source": [
    "# 17 Write 5 employee records using `csv.DictWriter`\n",
    "employee_data = [\n",
    "    {\"Name\": \"Alice\", \"Department\": \"Sales\", \"Salary\": 70000},\n",
    "    {\"Name\": \"Bob\", \"Department\": \"HR\", \"Salary\": 50000},\n",
    "    {\"Name\": \"Charlie\", \"Department\": \"IT\", \"Salary\": 80000},\n",
    "    {\"Name\": \"Diana\", \"Department\": \"Sales\", \"Salary\": 75000},\n",
    "    {\"Name\": \"Evan\", \"Department\": \"Marketing\", \"Salary\": 60000}\n",
    "]\n",
    "\n",
    "with open(\"Assignment Data/employees.csv\", \"a\", newline=\"\") as file:\n",
    "    writer = csv.DictWriter(file, fieldnames=[\"Name\", \"Department\", \"Salary\"])\n",
    "    writer.writerows(employee_data)"
   ]
  },
  {
   "cell_type": "code",
   "execution_count": 25,
   "id": "d33aafea",
   "metadata": {},
   "outputs": [
    {
     "name": "stdout",
     "output_type": "stream",
     "text": [
      "{'Name': 'Charlie', 'Department': 'IT', 'Salary': '80000'}\n",
      "{'Name': 'Diana', 'Department': 'Sales', 'Salary': '75000'}\n",
      "{'Name': 'Alice', 'Department': 'Sales', 'Salary': '70000'}\n",
      "{'Name': 'Evan', 'Department': 'Marketing', 'Salary': '60000'}\n",
      "{'Name': 'Bob', 'Department': 'HR', 'Salary': '50000'}\n"
     ]
    }
   ],
   "source": [
    "# 18 Read and sort records by salary descending\n",
    "with open(\"Assignment Data/employees.csv\", \"r\") as file:\n",
    "    reader = csv.DictReader(file)\n",
    "    sorted_employees = sorted(reader, key=lambda x: int(x[\"Salary\"]), reverse=True)\n",
    "\n",
    "for emp in sorted_employees:\n",
    "    print(emp)"
   ]
  },
  {
   "cell_type": "code",
   "execution_count": 26,
   "id": "52d1d153",
   "metadata": {},
   "outputs": [],
   "source": [
    "# 19 Filter “Sales” department and write to new CSV\n",
    "with open(\"Assignment Data/employees.csv\", \"r\") as file:\n",
    "    reader = csv.DictReader(file)\n",
    "    sales_employees = [emp for emp in reader if emp[\"Department\"] == \"Sales\"]\n",
    "\n",
    "with open(\"Assignment Data/sales_employees.csv\", \"w\", newline=\"\") as file:\n",
    "    writer = csv.DictWriter(file, fieldnames=[\"Name\", \"Department\", \"Salary\"])\n",
    "    writer.writeheader()\n",
    "    writer.writerows(sales_employees)"
   ]
  },
  {
   "cell_type": "code",
   "execution_count": 27,
   "id": "184e741b",
   "metadata": {},
   "outputs": [
    {
     "name": "stdout",
     "output_type": "stream",
     "text": [
      "[{'Name': 'Alice', 'Department': 'Sales', 'Salary': '70000'}, {'Name': 'Bob', 'Department': 'HR', 'Salary': '50000'}, {'Name': 'Charlie', 'Department': 'IT', 'Salary': '80000'}, {'Name': 'Diana', 'Department': 'Sales', 'Salary': '75000'}, {'Name': 'Evan', 'Department': 'Marketing', 'Salary': '60000'}]\n"
     ]
    }
   ],
   "source": [
    "# 20 Convert CSV into list of dictionaries\n",
    "with open(\"Assignment Data/employees.csv\", \"r\") as file:\n",
    "    reader = csv.DictReader(file)\n",
    "    employee_list = list(reader)\n",
    "\n",
    "print(employee_list)"
   ]
  },
  {
   "cell_type": "markdown",
   "id": "e54cd24e",
   "metadata": {},
   "source": [
    "<center> <h2 style= \"color:orange\"> JSON Handling (json.load, json.dumps) </h2> </center>\n",
    "\n",
    "21. Write a Python dictionary with employee details and save it to employee.json. \n",
    "22. Load employee.json and display the data in a formatted way. \n",
    "23. Update the salary of an employee in employee.json and overwrite the file. \n",
    "24. Write a script to convert employees.csv into a JSON file. \n",
    "25. Validate if a given JSON file is properly formatted or throws JSONDecodeError."
   ]
  },
  {
   "cell_type": "code",
   "execution_count": 28,
   "id": "87c88bc9",
   "metadata": {},
   "outputs": [],
   "source": [
    "# 21 Write employee data to `employee.json`\n",
    "import json\n",
    "\n",
    "employee = { \n",
    " \"employees\": [ \n",
    "     {\"name\": \"Alice\", \"department\": \"Sales\", \"salary\": 55000}, \n",
    "     {\"name\": \"Bob\", \"department\": \"Engineering\", \"salary\": 75000}, \n",
    "     {\"name\": \"Charlie\", \"department\": \"HR\", \"salary\": 50000} \n",
    "     ] \n",
    "}\n",
    "\n",
    "with open(\"Assignment Data/employee.json\", \"w\") as file:\n",
    "    json.dump(employee, file, indent=4)"
   ]
  },
  {
   "cell_type": "code",
   "execution_count": 29,
   "id": "568ba882",
   "metadata": {},
   "outputs": [
    {
     "name": "stdout",
     "output_type": "stream",
     "text": [
      "Formatted employee data:\n",
      "{\n",
      "    \"employees\": [\n",
      "        {\n",
      "            \"name\": \"Alice\",\n",
      "            \"department\": \"Sales\",\n",
      "            \"salary\": 55000\n",
      "        },\n",
      "        {\n",
      "            \"name\": \"Bob\",\n",
      "            \"department\": \"Engineering\",\n",
      "            \"salary\": 75000\n",
      "        },\n",
      "        {\n",
      "            \"name\": \"Charlie\",\n",
      "            \"department\": \"HR\",\n",
      "            \"salary\": 50000\n",
      "        }\n",
      "    ]\n",
      "}\n"
     ]
    }
   ],
   "source": [
    "# 22 Load and pretty-print the JSON file\n",
    "with open(\"Assignment Data/employee.json\", \"r\") as file:\n",
    "    data = json.load(file)\n",
    "\n",
    "print(\"Formatted employee data:\")\n",
    "print(json.dumps(data, indent=4))"
   ]
  },
  {
   "cell_type": "code",
   "execution_count": 30,
   "id": "0203477a",
   "metadata": {},
   "outputs": [],
   "source": [
    "# 23 Update employee salary and overwrite the file\n",
    "with open(\"Assignment Data/employee.json\", \"r\") as file:\n",
    "    employee_data = json.load(file)\n",
    "\n",
    "employee_data[\"Salary\"] = 75000  # updating salary"
   ]
  },
  {
   "cell_type": "code",
   "execution_count": 31,
   "id": "ed45e2f0",
   "metadata": {},
   "outputs": [],
   "source": [
    "with open(\"Assignment Data/employee.json\", \"w\") as file:\n",
    "    json.dump(employee_data, file, indent=4)"
   ]
  },
  {
   "cell_type": "code",
   "execution_count": 32,
   "id": "c32fa3ce",
   "metadata": {},
   "outputs": [],
   "source": [
    "# 24 Convert `employees.csv` to `employees.json`\n",
    "import csv\n",
    "\n",
    "with open(\"Assignment Data/employees.csv\", \"r\") as csv_file:\n",
    "    reader = csv.DictReader(csv_file)\n",
    "    employees_list = list(reader)\n",
    "\n",
    "with open(\"Assignment Data/employees.json\", \"w\") as json_file:\n",
    "    json.dump(employees_list, json_file, indent=4)"
   ]
  },
  {
   "cell_type": "code",
   "execution_count": 33,
   "id": "02551e50",
   "metadata": {},
   "outputs": [
    {
     "name": "stdout",
     "output_type": "stream",
     "text": [
      "JSON is valid!\n"
     ]
    }
   ],
   "source": [
    "# 25 Validate JSON structure and catch decoding errors\n",
    "try:\n",
    "    with open(\"Assignment Data/employees.json\", \"r\") as file:\n",
    "        data = json.load(file)\n",
    "    print(\"JSON is valid!\")\n",
    "except json.JSONDecodeError as e:\n",
    "    print(\"Invalid JSON:\", e)"
   ]
  },
  {
   "cell_type": "markdown",
   "id": "481ec750",
   "metadata": {},
   "source": [
    "<center> <h2 style= \"color:orange\"> Pickle Usage & Security </h2> </center>\n",
    "\n",
    "26. Create a Python dictionary of product inventory and serialize it using pickle. \n",
    "27. Deserialize the pickled data and print it. \n",
    "28. Modify a record in the deserialized data and overwrite the pickle file. \n",
    "29. Write a script to load pickle data securely and handle exceptions. \n",
    "30. Research and explain why loading untrusted pickle files can be a security risk. "
   ]
  },
  {
   "cell_type": "code",
   "execution_count": 34,
   "id": "6e84facc",
   "metadata": {},
   "outputs": [],
   "source": [
    "# 26 Serialize a product inventory dictionary using `pickle`\n",
    "import pickle \n",
    "inventory = { \n",
    "\"Laptop\": {\"quantity\": 10, \"price\": 800}, \n",
    "\"Monitor\": {\"quantity\": 20, \"price\": 150}, \n",
    "\"Mouse\": {\"quantity\": 100, \"price\": 20} \n",
    "} \n",
    "\n",
    "with open(\"Assignment Data/inventory.pkl\", \"wb\") as file:\n",
    "    pickle.dump(inventory, file)"
   ]
  },
  {
   "cell_type": "code",
   "execution_count": 35,
   "id": "85a5934c",
   "metadata": {},
   "outputs": [
    {
     "name": "stdout",
     "output_type": "stream",
     "text": [
      "Deserialized Inventory:\n",
      "Laptop: {'quantity': 10, 'price': 800}\n",
      "Monitor: {'quantity': 20, 'price': 150}\n",
      "Mouse: {'quantity': 100, 'price': 20}\n"
     ]
    }
   ],
   "source": [
    "# 27 Deserialize and print the pickled data\n",
    "with open(\"Assignment Data/inventory.pkl\", \"rb\") as file:\n",
    "    loaded_inventory = pickle.load(file)\n",
    "\n",
    "print(\"Deserialized Inventory:\")\n",
    "for pid, details in loaded_inventory.items():\n",
    "    print(f\"{pid}: {details}\")"
   ]
  },
  {
   "cell_type": "code",
   "execution_count": 36,
   "id": "a2f60849",
   "metadata": {},
   "outputs": [],
   "source": [
    "# 28 Modify a record and overwrite the pickle file\n",
    "# Update stock for product P001\n",
    "loaded_inventory[\"Mouse\"][\"quantity\"] = 150\n",
    "\n",
    "with open(\"Assignment Data/inventory.pkl\", \"wb\") as file:\n",
    "    pickle.dump(loaded_inventory, file)"
   ]
  },
  {
   "cell_type": "code",
   "execution_count": 37,
   "id": "3af155b5",
   "metadata": {},
   "outputs": [
    {
     "name": "stdout",
     "output_type": "stream",
     "text": [
      "Inventory loaded successfully.\n"
     ]
    }
   ],
   "source": [
    "# 29 Load pickle data securely with exception handling\n",
    "try:\n",
    "    with open(\"Assignment Data/inventory.pkl\", \"rb\") as file:\n",
    "        inventory_data = pickle.load(file)\n",
    "    print(\"Inventory loaded successfully.\")\n",
    "except (pickle.UnpicklingError, FileNotFoundError, EOFError) as e:\n",
    "    print(\"Error loading pickle file:\", e)"
   ]
  },
  {
   "cell_type": "code",
   "execution_count": 38,
   "id": "697eb370",
   "metadata": {},
   "outputs": [],
   "source": [
    "# 30 Why loading untrusted pickle files is risky\n",
    "# 🚨 Malicious Example Demonstration\n",
    "import pickle\n",
    "import os\n",
    "\n",
    "class Evil:\n",
    "    def __reduce__(self):\n",
    "        return (os.system, (\"echo 'Malicious code executed!'\",))\n",
    "\n",
    "# Serialize malicious object\n",
    "with open(\"Assignment Data/malicious.pkl\", \"wb\") as file:\n",
    "    pickle.dump(Evil(), file)\n",
    "\n",
    "# Deserialization triggers the payload\n",
    "with open(\"Assignment Data/malicious.pkl\", \"rb\") as file:\n",
    "    pickle.load(file)  # This will execute the echo command"
   ]
  },
  {
   "cell_type": "markdown",
   "id": "fad88f76",
   "metadata": {},
   "source": [
    "<center> <h2 style= \"color:orange\"> Integration & Realistic Use Cases </h2> </center>\n",
    "\n",
    " \n",
    "31. Create a program that reads names from a text file and writes them to a CSV file. \n",
    "32. Build a script that appends log entries into a text file whenever a JSON file is updated. \n",
    "33. Write a program that reads data from a CSV file, transforms it (e.g., increase all salaries by 10%), and writes the results into a new JSON file. \n",
    "34. Create a backup of any given file by copying its contents to a new file with a timestamp suffix. \n",
    "35. Develop a script that uses seek() to read only the last 100 bytes of a large log file. \n",
    "36. Create a script that writes user input into a text file until the user types “STOP”. \n",
    "37. Read a JSON file containing configurations and write specific settings into a .ini-style text file. \n",
    "38. Create a pickle file storing user session data and demonstrate restoring the session state on script restart. \n",
    "39. Write a script to merge multiple text files into a single file. \n",
    "40. Create a data export tool that reads product details from JSON, formats them into CSV, and saves them with a timestamped filename."
   ]
  },
  {
   "cell_type": "code",
   "execution_count": 39,
   "id": "8a60f847",
   "metadata": {},
   "outputs": [],
   "source": [
    "# 31 Read names from a text file and write to CSV\n",
    "import csv\n",
    "\n",
    "with open(\"Assignment Data/names.txt\", \"r\") as txt_file, open(\"names.csv\", \"w\", newline=\"\") as csv_file:\n",
    "    writer = csv.writer(csv_file)\n",
    "    for line in txt_file:\n",
    "        writer.writerow([line.strip()])"
   ]
  },
  {
   "cell_type": "code",
   "execution_count": 40,
   "id": "0724520e",
   "metadata": {},
   "outputs": [],
   "source": [
    "# 32 Append log entries when a JSON file is updated\n",
    "import json\n",
    "import datetime\n",
    "\n",
    "try:\n",
    "    with open(\"Assignment Data/data.json\", \"r+\") as file:\n",
    "        data = json.load(file)\n",
    "        data[\"last_updated\"] = str(datetime.datetime.now())\n",
    "        file.seek(0)\n",
    "        json.dump(data, file, indent=4)\n",
    "        file.truncate()\n",
    "\n",
    "except :\n",
    "    print(\"data.json not found. Creating a new file.\")\n",
    "    data = {\"last_updated\": str(datetime.datetime.now())}\n",
    "    with open(\"Assignment Data/data.json\", \"w\") as file:\n",
    "        json.dump(data, file, indent=4)\n",
    "        \n",
    "with open(\"Assignment Data/update.log\", \"a\") as log:\n",
    "    log.write(f\"Updated data.json at {datetime.datetime.now()}\\n\")"
   ]
  },
  {
   "cell_type": "code",
   "execution_count": 41,
   "id": "4187e32a",
   "metadata": {},
   "outputs": [],
   "source": [
    "# 33 Transform CSV data and write to JSON\n",
    "import csv\n",
    "import json\n",
    "\n",
    "with open(\"Assignment Data/employees.csv\", \"r\") as csv_file:\n",
    "    reader = csv.DictReader(csv_file)\n",
    "    updated = []\n",
    "    for row in reader:\n",
    "        row[\"Salary\"] = str(int(row[\"Salary\"]) * 1.10)\n",
    "        updated.append(row)\n",
    "\n",
    "with open(\"Assignment Data/updated_employees.json\", \"w\") as json_file:\n",
    "    json.dump(updated, json_file, indent=4)"
   ]
  },
  {
   "cell_type": "code",
   "execution_count": 43,
   "id": "ef9d99fe",
   "metadata": {},
   "outputs": [
    {
     "data": {
      "text/plain": [
       "'important_backup_20250703_110100.txt'"
      ]
     },
     "execution_count": 43,
     "metadata": {},
     "output_type": "execute_result"
    }
   ],
   "source": [
    "# 34 Backup a file with timestamp suffix\n",
    "import shutil\n",
    "import datetime\n",
    "\n",
    "timestamp = datetime.datetime.now().strftime(\"%Y%m%d_%H%M%S\")\n",
    "shutil.copy(\"Assignment Data/important.txt\", f\"important_backup_{timestamp}.txt\")"
   ]
  },
  {
   "cell_type": "code",
   "execution_count": 44,
   "id": "f0e12e12",
   "metadata": {},
   "outputs": [
    {
     "name": "stdout",
     "output_type": "stream",
     "text": [
      "Error reading the file. It may not exist or is too small.\n"
     ]
    }
   ],
   "source": [
    "# 35 Read last 100 bytes of a log file\n",
    "\n",
    "try:\n",
    "    with open(\"Assignment Data/large_log.txt\", \"rb\") as file:\n",
    "        file.seek(-100, 2)  # 2 = end of file\n",
    "        print(file.read().decode())\n",
    "        \n",
    "except :\n",
    "    print(\"Error reading the file. It may not exist or is too small.\")"
   ]
  },
  {
   "cell_type": "code",
   "execution_count": 45,
   "id": "b7ed3d4d",
   "metadata": {},
   "outputs": [],
   "source": [
    "# 36 Write user input until “STOP”\n",
    "with open(\"Assignment Data/user_input.txt\", \"w\") as file:\n",
    "    while True:\n",
    "        text = input(\"Enter text (type 'STOP' to finish): \")\n",
    "        if text == \"STOP\":\n",
    "            break\n",
    "        file.write(text + \"\\n\")"
   ]
  },
  {
   "cell_type": "code",
   "execution_count": 46,
   "id": "a6a19f79",
   "metadata": {},
   "outputs": [],
   "source": [
    "# 37 Convert JSON config to .ini-style text\n",
    "import json\n",
    "\n",
    "try:\n",
    "    with open(\"Assignment Data/config.json\", \"r\") as file:\n",
    "        config = json.load(file)\n",
    "\n",
    "except :\n",
    "    with open(\"Assignment Data/config.ini\", \"w\") as ini_file:\n",
    "        for section, settings in config.items():\n",
    "            ini_file.write(f\"[{section}]\\n\")\n",
    "            for key, value in settings.items():\n",
    "                ini_file.write(f\"{key} = {value}\\n\")\n",
    "            ini_file.write(\"\\n\")"
   ]
  },
  {
   "cell_type": "code",
   "execution_count": 47,
   "id": "e068d55b",
   "metadata": {},
   "outputs": [
    {
     "name": "stdout",
     "output_type": "stream",
     "text": [
      "Restored session: {'user': 'Alice', 'theme': 'dark', 'logged_in': True}\n"
     ]
    }
   ],
   "source": [
    "# 38 Store and restore session data with pickle\n",
    "import pickle\n",
    "import os\n",
    "\n",
    "session_file = \"Assignment Data/session.pkl\"\n",
    "\n",
    "if os.path.exists(session_file):\n",
    "    with open(session_file, \"rb\") as file:\n",
    "        session = pickle.load(file)\n",
    "    print(\"Restored session:\", session)\n",
    "else:\n",
    "    session = {\"user\": \"Alice\", \"theme\": \"dark\", \"logged_in\": True}\n",
    "    with open(session_file, \"wb\") as file:\n",
    "        pickle.dump(session, file)\n",
    "    print(\"Session saved.\")"
   ]
  },
  {
   "cell_type": "code",
   "execution_count": 48,
   "id": "32483e31",
   "metadata": {},
   "outputs": [],
   "source": [
    "# 39 Merge multiple text files into one\n",
    "import glob\n",
    "\n",
    "with open(\"Assignment Data/merged.txt\", \"w\") as outfile:\n",
    "    for filename in glob.glob(\"*.txt\"):\n",
    "        with open(filename, \"r\") as infile:\n",
    "            outfile.write(infile.read() + \"\\n\")"
   ]
  },
  {
   "cell_type": "code",
   "execution_count": 49,
   "id": "a2d62868",
   "metadata": {},
   "outputs": [
    {
     "name": "stdout",
     "output_type": "stream",
     "text": [
      "Error writing to CSV: 'str' object has no attribute 'keys'\n"
     ]
    }
   ],
   "source": [
    "# 40 Export product JSON to timestamped CSV\n",
    "import json\n",
    "import csv\n",
    "import datetime\n",
    "\n",
    "with open(\"Assignment Data/products.json\", \"r\") as file:\n",
    "    products = json.load(file)\n",
    "\n",
    "timestamp = datetime.datetime.now().strftime(\"%Y%m%d_%H%M%S\")\n",
    "filename = f\"products_export_{timestamp}.csv\"\n",
    "\n",
    "try:\n",
    "    with open(filename, \"w\", newline=\"\") as csv_file:\n",
    "        writer = csv.DictWriter(csv_file, fieldnames=[\"id\", \"name\", \"price\"])\n",
    "        writer.writeheader()\n",
    "        writer.writerows(products)\n",
    "        \n",
    "except Exception as e:\n",
    "    print(\"Error writing to CSV:\", e)"
   ]
  },
  {
   "cell_type": "code",
   "execution_count": null,
   "id": "eca7cbf6",
   "metadata": {},
   "outputs": [],
   "source": []
  }
 ],
 "metadata": {
  "kernelspec": {
   "display_name": "Python 3",
   "language": "python",
   "name": "python3"
  },
  "language_info": {
   "codemirror_mode": {
    "name": "ipython",
    "version": 3
   },
   "file_extension": ".py",
   "mimetype": "text/x-python",
   "name": "python",
   "nbconvert_exporter": "python",
   "pygments_lexer": "ipython3",
   "version": "3.10.0"
  },
  "widgets": {
   "application/vnd.jupyter.widget-state+json": {
    "state": {},
    "version_major": 2,
    "version_minor": 0
   }
  }
 },
 "nbformat": 4,
 "nbformat_minor": 5
}
