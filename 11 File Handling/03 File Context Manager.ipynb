{
 "cells": [
  {
   "cell_type": "code",
   "execution_count": 1,
   "id": "3e76d1fc",
   "metadata": {},
   "outputs": [],
   "source": [
    "f = open('test.txt' , 'w')"
   ]
  },
  {
   "cell_type": "code",
   "execution_count": 2,
   "id": "41eb5eff",
   "metadata": {},
   "outputs": [
    {
     "data": {
      "text/plain": [
       "15"
      ]
     },
     "execution_count": 2,
     "metadata": {},
     "output_type": "execute_result"
    }
   ],
   "source": [
    "f.write(\"this is my test\")"
   ]
  },
  {
   "cell_type": "code",
   "execution_count": 3,
   "id": "f1a3c17f",
   "metadata": {},
   "outputs": [],
   "source": [
    "f.close()"
   ]
  },
  {
   "cell_type": "code",
   "execution_count": 4,
   "id": "46845f57",
   "metadata": {},
   "outputs": [],
   "source": [
    "with open('test.txt' , 'w') as f :\n",
    "    f.write(\" my name is sudh\")"
   ]
  },
  {
   "cell_type": "code",
   "execution_count": 5,
   "id": "f599f1ab",
   "metadata": {},
   "outputs": [
    {
     "name": "stdout",
     "output_type": "stream",
     "text": [
      " my name is sudh\n"
     ]
    }
   ],
   "source": [
    "with open('test.txt' , 'r') as f :\n",
    "    print(f.read())"
   ]
  },
  {
   "cell_type": "code",
   "execution_count": 9,
   "id": "75909f98",
   "metadata": {},
   "outputs": [
    {
     "name": "stdout",
     "output_type": "stream",
     "text": [
      " my name i\n"
     ]
    }
   ],
   "source": [
    "with open('test.txt' , 'r') as f :\n",
    "    print(f.read(10))"
   ]
  },
  {
   "cell_type": "code",
   "execution_count": 7,
   "id": "24370b3d",
   "metadata": {},
   "outputs": [],
   "source": [
    "with open('test123.bin' , 'wb') as f :\n",
    "    f.write(b'\\x10\\x20')"
   ]
  },
  {
   "cell_type": "code",
   "execution_count": null,
   "id": "014ad39e",
   "metadata": {},
   "outputs": [],
   "source": []
  }
 ],
 "metadata": {
  "kernelspec": {
   "display_name": "agentdemo",
   "language": "python",
   "name": "python3"
  },
  "language_info": {
   "codemirror_mode": {
    "name": "ipython",
    "version": 3
   },
   "file_extension": ".py",
   "mimetype": "text/x-python",
   "name": "python",
   "nbconvert_exporter": "python",
   "pygments_lexer": "ipython3",
   "version": "3.11.11"
  }
 },
 "nbformat": 4,
 "nbformat_minor": 5
}
