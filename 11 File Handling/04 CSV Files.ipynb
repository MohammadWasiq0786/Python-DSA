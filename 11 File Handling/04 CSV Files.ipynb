{
 "cells": [
  {
   "cell_type": "code",
   "execution_count": 1,
   "id": "2842a5f9",
   "metadata": {},
   "outputs": [],
   "source": [
    "import csv"
   ]
  },
  {
   "cell_type": "code",
   "execution_count": 3,
   "id": "b290ed7d",
   "metadata": {},
   "outputs": [
    {
     "name": "stdout",
     "output_type": "stream",
     "text": [
      "<_csv.reader object at 0x0000024E90A61600>\n",
      "['Name', 'Age', 'Country']\n",
      "['Alice', '30', 'USA']\n",
      "['Bob', '25', 'UK']\n",
      "['Charlie', '35', 'Canada']\n"
     ]
    }
   ],
   "source": [
    "with open('sample.csv' , 'r') as f : \n",
    "    reader = csv.reader(f)\n",
    "    print(reader)\n",
    "    for i in reader:\n",
    "        print(i)"
   ]
  },
  {
   "cell_type": "code",
   "execution_count": 4,
   "id": "0fd3c34f",
   "metadata": {},
   "outputs": [
    {
     "name": "stdout",
     "output_type": "stream",
     "text": [
      "<_csv.reader object at 0x0000024E90895420>\n",
      "['Alice', '30', 'USA']\n",
      "['Bob', '25', 'UK']\n",
      "['Charlie', '35', 'Canada']\n"
     ]
    }
   ],
   "source": [
    "with open('sample.csv' , 'r') as f : \n",
    "    reader = csv.reader(f)\n",
    "    next(reader)\n",
    "    print(reader)\n",
    "    for i in reader:\n",
    "        print(i)"
   ]
  },
  {
   "cell_type": "code",
   "execution_count": 5,
   "id": "d4c51290",
   "metadata": {},
   "outputs": [],
   "source": [
    "with open('output.csv' , 'w',newline='') as f :\n",
    "    writer = csv.writer(f)\n",
    "    writer.writerow(['name' ,'company'])\n",
    "    writer.writerow(['name1' ,'company1'])"
   ]
  },
  {
   "cell_type": "code",
   "execution_count": 6,
   "id": "2e2e5286",
   "metadata": {},
   "outputs": [],
   "source": [
    "with open('output.csv' , 'w',newline='') as f :\n",
    "    writer = csv.writer(f)\n",
    "    writer.writerows([['name' ,'company'] ,['name1' ,'company1'] ,['name1' ,'company1'],['name1' ,'company1'],['name1' ,'company1'],['name1' ,'company1']])\n",
    "  "
   ]
  },
  {
   "cell_type": "code",
   "execution_count": 7,
   "id": "e2572771",
   "metadata": {},
   "outputs": [
    {
     "name": "stdout",
     "output_type": "stream",
     "text": [
      "{'name': 'name1', 'company': 'company1'}\n",
      "{'name': 'name1', 'company': 'company1'}\n",
      "{'name': 'name1', 'company': 'company1'}\n",
      "{'name': 'name1', 'company': 'company1'}\n",
      "{'name': 'name1', 'company': 'company1'}\n"
     ]
    }
   ],
   "source": [
    "with open('output.csv' , 'r',newline='') as f :\n",
    "    reader = csv.DictReader(f)\n",
    "    for i in reader:\n",
    "        print(i)"
   ]
  },
  {
   "cell_type": "code",
   "execution_count": null,
   "id": "c69736f2",
   "metadata": {},
   "outputs": [],
   "source": []
  }
 ],
 "metadata": {
  "kernelspec": {
   "display_name": "agentdemo",
   "language": "python",
   "name": "python3"
  },
  "language_info": {
   "codemirror_mode": {
    "name": "ipython",
    "version": 3
   },
   "file_extension": ".py",
   "mimetype": "text/x-python",
   "name": "python",
   "nbconvert_exporter": "python",
   "pygments_lexer": "ipython3",
   "version": "3.11.11"
  }
 },
 "nbformat": 4,
 "nbformat_minor": 5
}
