{
 "cells": [
  {
   "cell_type": "code",
   "execution_count": 1,
   "id": "50226576",
   "metadata": {},
   "outputs": [],
   "source": [
    "j = {\n",
    "    \"employees\": [\n",
    "        {\"name\": \"Alice\", \"age\": 30},\n",
    "        {\"name\": \"Bob\", \"age\": 25}\n",
    "    ]\n",
    "}\n"
   ]
  },
  {
   "cell_type": "code",
   "execution_count": 2,
   "id": "61dce42f",
   "metadata": {},
   "outputs": [],
   "source": [
    "import json"
   ]
  },
  {
   "cell_type": "code",
   "execution_count": 3,
   "id": "098cada7",
   "metadata": {},
   "outputs": [
    {
     "name": "stdout",
     "output_type": "stream",
     "text": [
      "{'employees': [{'name': 'Alice', 'age': 30}, {'name': 'Bob', 'age': 25}]}\n"
     ]
    }
   ],
   "source": [
    "with open('data.json' , 'r') as f :\n",
    "    data = json.load(f)\n",
    "    print(data)"
   ]
  },
  {
   "cell_type": "code",
   "execution_count": 5,
   "id": "f6f89dc0",
   "metadata": {},
   "outputs": [
    {
     "name": "stdout",
     "output_type": "stream",
     "text": [
      "{'name': 'Alice', 'age': 30}\n",
      "Alice 30\n",
      "{'name': 'Bob', 'age': 25}\n",
      "Bob 25\n"
     ]
    }
   ],
   "source": [
    "with open('data.json' , 'r') as f :\n",
    "    data = json.load(f)\n",
    "    for i in data['employees']:\n",
    "        print(i)\n",
    "        print(i['name'] , i['age'])"
   ]
  },
  {
   "cell_type": "code",
   "execution_count": 6,
   "id": "1761bf38",
   "metadata": {},
   "outputs": [],
   "source": [
    "j = {\n",
    "    \"employees\": [\n",
    "        {\"name\": \"Alice\", \"age\": 30},\n",
    "        {\"name\": \"Bob\", \"age\": 25}\n",
    "    ]\n",
    "}"
   ]
  },
  {
   "cell_type": "code",
   "execution_count": 7,
   "id": "8a305920",
   "metadata": {},
   "outputs": [],
   "source": [
    "with open('output.json','w') as f :\n",
    "    json.dump(j,f)"
   ]
  },
  {
   "cell_type": "code",
   "execution_count": null,
   "id": "d30a1e0e",
   "metadata": {},
   "outputs": [],
   "source": []
  }
 ],
 "metadata": {
  "kernelspec": {
   "display_name": "agentdemo",
   "language": "python",
   "name": "python3"
  },
  "language_info": {
   "codemirror_mode": {
    "name": "ipython",
    "version": 3
   },
   "file_extension": ".py",
   "mimetype": "text/x-python",
   "name": "python",
   "nbconvert_exporter": "python",
   "pygments_lexer": "ipython3",
   "version": "3.11.11"
  }
 },
 "nbformat": 4,
 "nbformat_minor": 5
}
