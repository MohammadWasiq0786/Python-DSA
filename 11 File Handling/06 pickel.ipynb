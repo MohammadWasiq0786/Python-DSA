{
 "cells": [
  {
   "cell_type": "code",
   "execution_count": 1,
   "id": "9c22d61a",
   "metadata": {},
   "outputs": [],
   "source": [
    "import pickle"
   ]
  },
  {
   "cell_type": "code",
   "execution_count": 2,
   "id": "63989944",
   "metadata": {},
   "outputs": [],
   "source": [
    "data = {'name' :\"sudh\" , \"phone\" :\"345345\"}"
   ]
  },
  {
   "cell_type": "code",
   "execution_count": 3,
   "id": "e59a5a7a",
   "metadata": {},
   "outputs": [],
   "source": [
    "with open('data.pkl' ,'wb') as f :\n",
    "    pickle.dump(data,f)"
   ]
  },
  {
   "cell_type": "code",
   "execution_count": 5,
   "id": "64576a37",
   "metadata": {},
   "outputs": [
    {
     "name": "stdout",
     "output_type": "stream",
     "text": [
      "{'name': 'sudh', 'phone': '345345'}\n"
     ]
    }
   ],
   "source": [
    "with open('data.pkl' ,'rb') as f :\n",
    "    print(pickle.load(f))"
   ]
  },
  {
   "cell_type": "code",
   "execution_count": null,
   "id": "c78866eb",
   "metadata": {},
   "outputs": [],
   "source": []
  }
 ],
 "metadata": {
  "kernelspec": {
   "display_name": "agentdemo",
   "language": "python",
   "name": "python3"
  },
  "language_info": {
   "codemirror_mode": {
    "name": "ipython",
    "version": 3
   },
   "file_extension": ".py",
   "mimetype": "text/x-python",
   "name": "python",
   "nbconvert_exporter": "python",
   "pygments_lexer": "ipython3",
   "version": "3.11.11"
  }
 },
 "nbformat": 4,
 "nbformat_minor": 5
}
