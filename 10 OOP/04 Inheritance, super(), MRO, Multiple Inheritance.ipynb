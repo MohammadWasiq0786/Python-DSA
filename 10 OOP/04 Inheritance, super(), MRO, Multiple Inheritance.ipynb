{
 "cells": [
  {
   "cell_type": "code",
   "execution_count": 1,
   "id": "5b1a673e",
   "metadata": {},
   "outputs": [],
   "source": [
    "class mentor:\n",
    "    def __init__(self,name):\n",
    "        self.name = name\n",
    "        \n",
    "    def show(self):\n",
    "        print(f\"mentor {self.name}\")"
   ]
  },
  {
   "cell_type": "code",
   "execution_count": 2,
   "id": "605c5473",
   "metadata": {},
   "outputs": [],
   "source": [
    "class EuronMentor(mentor):\n",
    "    pass"
   ]
  },
  {
   "cell_type": "code",
   "execution_count": 4,
   "id": "f9c181fa",
   "metadata": {},
   "outputs": [],
   "source": [
    "em = EuronMentor(\"sudh\")"
   ]
  },
  {
   "cell_type": "code",
   "execution_count": 5,
   "id": "9c105b02",
   "metadata": {},
   "outputs": [
    {
     "data": {
      "text/plain": [
       "'sudh'"
      ]
     },
     "execution_count": 5,
     "metadata": {},
     "output_type": "execute_result"
    }
   ],
   "source": [
    "em.name"
   ]
  },
  {
   "cell_type": "code",
   "execution_count": 6,
   "id": "f2685c0f",
   "metadata": {},
   "outputs": [
    {
     "name": "stdout",
     "output_type": "stream",
     "text": [
      "mentor sudh\n"
     ]
    }
   ],
   "source": [
    "em.show()"
   ]
  },
  {
   "cell_type": "code",
   "execution_count": 7,
   "id": "363671e4",
   "metadata": {},
   "outputs": [],
   "source": [
    "class mentor:\n",
    "    def __init__(self,name):\n",
    "        self.name = name\n",
    "        \n",
    "    def show(self):\n",
    "        print(f\"mentor {self.name}\")"
   ]
  },
  {
   "cell_type": "code",
   "execution_count": 12,
   "id": "2cd06880",
   "metadata": {},
   "outputs": [],
   "source": [
    "class EuronMentor(mentor):\n",
    "    def assign_course(self,course):\n",
    "        #self.course = course\n",
    "        print(f\"{self.name} assigned to {course}\")\n",
    "    "
   ]
  },
  {
   "cell_type": "code",
   "execution_count": 13,
   "id": "29da6ae8",
   "metadata": {},
   "outputs": [],
   "source": [
    "em = EuronMentor(\"sudhanshu\")"
   ]
  },
  {
   "cell_type": "code",
   "execution_count": 14,
   "id": "f5c70ba4",
   "metadata": {},
   "outputs": [
    {
     "name": "stdout",
     "output_type": "stream",
     "text": [
      "sudhanshu assigned to python with dsa\n"
     ]
    }
   ],
   "source": [
    "em.assign_course(\"python with dsa\")"
   ]
  },
  {
   "cell_type": "code",
   "execution_count": 15,
   "id": "3d6dac2a",
   "metadata": {},
   "outputs": [],
   "source": [
    "class mentor:\n",
    "    def intro(self):\n",
    "        print(\"i am a mentor\")"
   ]
  },
  {
   "cell_type": "code",
   "execution_count": 22,
   "id": "144a88e2",
   "metadata": {},
   "outputs": [],
   "source": [
    "class euronmentor(mentor):\n",
    "    def intro(self):\n",
    "        super().intro()\n",
    "        return \"this is euron mentor intro\""
   ]
  },
  {
   "cell_type": "code",
   "execution_count": 23,
   "id": "6ff69f1d",
   "metadata": {},
   "outputs": [],
   "source": [
    "em= euronmentor()"
   ]
  },
  {
   "cell_type": "code",
   "execution_count": 24,
   "id": "4f1791a4",
   "metadata": {},
   "outputs": [
    {
     "name": "stdout",
     "output_type": "stream",
     "text": [
      "i am a mentor\n"
     ]
    },
    {
     "data": {
      "text/plain": [
       "'this is euron mentor intro'"
      ]
     },
     "execution_count": 24,
     "metadata": {},
     "output_type": "execute_result"
    }
   ],
   "source": [
    "em.intro()"
   ]
  },
  {
   "cell_type": "code",
   "execution_count": 26,
   "id": "7416f464",
   "metadata": {},
   "outputs": [],
   "source": [
    "class course:\n",
    "    def __init__(self,title):\n",
    "        self.title = title\n",
    "        print(f\"{self.title}\")"
   ]
  },
  {
   "cell_type": "code",
   "execution_count": 32,
   "id": "670803fc",
   "metadata": {},
   "outputs": [],
   "source": [
    "class euroncourse(course):\n",
    "    def __init__(self, title,mentor):\n",
    "        super().__init__(title)\n",
    "        self.mentor = mentor\n",
    "        print(f\"{self.mentor} and {self.title}\")"
   ]
  },
  {
   "cell_type": "code",
   "execution_count": 33,
   "id": "f558ed4d",
   "metadata": {},
   "outputs": [
    {
     "name": "stdout",
     "output_type": "stream",
     "text": [
      "python\n",
      "sudhanshu and python\n"
     ]
    }
   ],
   "source": [
    "ec = euroncourse(\"python\",\"sudhanshu\")"
   ]
  },
  {
   "cell_type": "code",
   "execution_count": 47,
   "id": "701d8feb",
   "metadata": {},
   "outputs": [],
   "source": [
    "class plateform:\n",
    "    def show(self):\n",
    "        print(\"this is euron plateform\")"
   ]
  },
  {
   "cell_type": "code",
   "execution_count": 48,
   "id": "66c15d0f",
   "metadata": {},
   "outputs": [],
   "source": [
    "class cousre1(plateform):\n",
    "    def display_course(self):\n",
    "        print(\"course available\")"
   ]
  },
  {
   "cell_type": "code",
   "execution_count": 49,
   "id": "8aabb380",
   "metadata": {},
   "outputs": [],
   "source": [
    "class dsa(cousre1):\n",
    "    def intro(self):\n",
    "        print(\"its a dsa cousre\")"
   ]
  },
  {
   "cell_type": "code",
   "execution_count": 50,
   "id": "5ded2c86",
   "metadata": {},
   "outputs": [],
   "source": [
    "ds =dsa()"
   ]
  },
  {
   "cell_type": "code",
   "execution_count": 51,
   "id": "16aea8fc",
   "metadata": {},
   "outputs": [
    {
     "name": "stdout",
     "output_type": "stream",
     "text": [
      "this is euron plateform\n"
     ]
    }
   ],
   "source": [
    "ds.show()"
   ]
  },
  {
   "cell_type": "code",
   "execution_count": 52,
   "id": "27fbee00",
   "metadata": {},
   "outputs": [
    {
     "name": "stdout",
     "output_type": "stream",
     "text": [
      "its a dsa cousre\n"
     ]
    }
   ],
   "source": [
    "ds.intro()"
   ]
  },
  {
   "cell_type": "code",
   "execution_count": 53,
   "id": "39661840",
   "metadata": {},
   "outputs": [
    {
     "name": "stdout",
     "output_type": "stream",
     "text": [
      "course available\n"
     ]
    }
   ],
   "source": [
    "ds.display_course()"
   ]
  },
  {
   "cell_type": "code",
   "execution_count": 54,
   "id": "9806adb7",
   "metadata": {},
   "outputs": [],
   "source": [
    "class design:\n",
    "    def ui(self):\n",
    "        print(\"design system ready\")\n",
    "    \n",
    "class curriculam:\n",
    "    def syllabus(self):\n",
    "        print(\"curriculam loaded\")\n",
    "        \n",
    "class euronsystem(design,curriculam):\n",
    "    pass"
   ]
  },
  {
   "cell_type": "code",
   "execution_count": 55,
   "id": "39871c8e",
   "metadata": {},
   "outputs": [],
   "source": [
    "es = euronsystem()"
   ]
  },
  {
   "cell_type": "code",
   "execution_count": 56,
   "id": "d86e9fe8",
   "metadata": {},
   "outputs": [
    {
     "name": "stdout",
     "output_type": "stream",
     "text": [
      "curriculam loaded\n"
     ]
    }
   ],
   "source": [
    "es.syllabus()"
   ]
  },
  {
   "cell_type": "code",
   "execution_count": 57,
   "id": "8bcd114e",
   "metadata": {},
   "outputs": [
    {
     "name": "stdout",
     "output_type": "stream",
     "text": [
      "design system ready\n"
     ]
    }
   ],
   "source": [
    "es.ui()"
   ]
  },
  {
   "cell_type": "code",
   "execution_count": 61,
   "id": "f09d0e8f",
   "metadata": {},
   "outputs": [],
   "source": [
    "class a :\n",
    "    def show(self):\n",
    "        print(\"a\")\n",
    "\n",
    "class b(a):\n",
    "    def show(self):\n",
    "        print(\"b\")\n",
    "        super().show()\n",
    "        \n",
    "class c(a):\n",
    "    def show(self):\n",
    "        print(\"c\")\n",
    "        super().show()\n",
    "        \n",
    "class d(b,c):\n",
    "    def show(self):\n",
    "        print(\"d\")\n",
    "        super().show()"
   ]
  },
  {
   "cell_type": "code",
   "execution_count": 62,
   "id": "cb7e8193",
   "metadata": {},
   "outputs": [
    {
     "name": "stdout",
     "output_type": "stream",
     "text": [
      "d\n",
      "b\n",
      "c\n",
      "a\n"
     ]
    }
   ],
   "source": [
    "d_obj = d()\n",
    "d_obj.show()"
   ]
  },
  {
   "cell_type": "code",
   "execution_count": 63,
   "id": "bcb53920",
   "metadata": {},
   "outputs": [
    {
     "data": {
      "text/plain": [
       "[__main__.d, __main__.b, __main__.c, __main__.a, object]"
      ]
     },
     "execution_count": 63,
     "metadata": {},
     "output_type": "execute_result"
    }
   ],
   "source": [
    "d.mro()"
   ]
  },
  {
   "cell_type": "code",
   "execution_count": 64,
   "id": "c53cc69b",
   "metadata": {},
   "outputs": [
    {
     "data": {
      "text/plain": [
       "[__main__.c, __main__.a, object]"
      ]
     },
     "execution_count": 64,
     "metadata": {},
     "output_type": "execute_result"
    }
   ],
   "source": [
    "c.mro()"
   ]
  },
  {
   "cell_type": "code",
   "execution_count": 65,
   "id": "f3b448af",
   "metadata": {},
   "outputs": [
    {
     "data": {
      "text/plain": [
       "[__main__.b, __main__.a, object]"
      ]
     },
     "execution_count": 65,
     "metadata": {},
     "output_type": "execute_result"
    }
   ],
   "source": [
    "b.mro()"
   ]
  },
  {
   "cell_type": "code",
   "execution_count": null,
   "id": "a11a1edd",
   "metadata": {},
   "outputs": [],
   "source": []
  }
 ],
 "metadata": {
  "kernelspec": {
   "display_name": "agentdemo",
   "language": "python",
   "name": "python3"
  },
  "language_info": {
   "codemirror_mode": {
    "name": "ipython",
    "version": 3
   },
   "file_extension": ".py",
   "mimetype": "text/x-python",
   "name": "python",
   "nbconvert_exporter": "python",
   "pygments_lexer": "ipython3",
   "version": "3.11.11"
  }
 },
 "nbformat": 4,
 "nbformat_minor": 5
}
