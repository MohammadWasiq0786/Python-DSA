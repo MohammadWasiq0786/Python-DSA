{
 "cells": [
  {
   "cell_type": "markdown",
   "id": "12a9ebfe",
   "metadata": {},
   "source": [
    "<center> <h1 style= \"color:red\"> Assignments-8 </h1> </center>\n",
    "\n",
    "<center> <h2 style= \"color:orange\"> Object-Oriented Programming (OOP) </h2> </center>"
   ]
  },
  {
   "cell_type": "markdown",
   "id": "901047e1",
   "metadata": {},
   "source": [
    "<center> <h2 style= \"color:orange\"> Classes & Objects (Basics) </h2> </center>\n",
    "\n",
    "1. Create a Student class with attributes name, age, and grade. Instantiate 3 objects and print their details. \n",
    "2. Build a BankAccount class with deposit and withdraw methods. \n",
    "3. Create a class Rectangle and calculate its area and perimeter using methods. \n",
    "4. Write a Book class with a method to display book info. \n",
    "5. Develop a Car class that tracks speed and model; create multiple objects. \n",
    "6. Write a class Laptop with both default and user-defined values. "
   ]
  },
  {
   "cell_type": "code",
   "execution_count": 49,
   "id": "61603017-48da-445d-8077-3efe393b00e5",
   "metadata": {
    "execution": {
     "iopub.execute_input": "2025-05-21T15:18:08.806800Z",
     "iopub.status.busy": "2025-05-21T15:18:08.805785Z",
     "iopub.status.idle": "2025-05-21T15:18:08.824779Z",
     "shell.execute_reply": "2025-05-21T15:18:08.822777Z",
     "shell.execute_reply.started": "2025-05-21T15:18:08.806800Z"
    }
   },
   "outputs": [
    {
     "name": "stdout",
     "output_type": "stream",
     "text": [
      "Name: Wasiq, Age: 24, Grade: A\n",
      "Name: Altamash, Age: 22, Grade: B+\n",
      "Name: Zainul, Age: 17, Grade: A-\n"
     ]
    }
   ],
   "source": [
    "# 1. Student class\n",
    "class Student:\n",
    "    def __init__(self, name, age, grade):\n",
    "        self.name = name\n",
    "        self.age = age\n",
    "        self.grade = grade\n",
    "\n",
    "    def display(self):\n",
    "        print(f\"Name: {self.name}, Age: {self.age}, Grade: {self.grade}\")\n",
    "\n",
    "s1 = Student(\"Wasiq\", 24, \"A\")\n",
    "s2 = Student(\"Altamash\", 22, \"B+\")\n",
    "s3 = Student(\"Zainul\", 17, \"A-\")\n",
    "\n",
    "s1.display()\n",
    "s2.display()\n",
    "s3.display()"
   ]
  },
  {
   "cell_type": "code",
   "execution_count": 50,
   "id": "d2267031",
   "metadata": {},
   "outputs": [
    {
     "name": "stdout",
     "output_type": "stream",
     "text": [
      "Deposited ₹500. New balance: ₹1500\n",
      "Withdrew ₹200. New balance: ₹1300\n",
      "Insufficient funds\n"
     ]
    }
   ],
   "source": [
    "# 2. BankAccount class\n",
    "class BankAccount:\n",
    "    def __init__(self, balance=0):\n",
    "        self.balance = balance\n",
    "\n",
    "    def deposit(self, amount):\n",
    "        self.balance += amount\n",
    "        print(f\"Deposited ₹{amount}. New balance: ₹{self.balance}\")\n",
    "\n",
    "    def withdraw(self, amount):\n",
    "        if amount > self.balance:\n",
    "            print(\"Insufficient funds\")\n",
    "        else:\n",
    "            self.balance -= amount\n",
    "            print(f\"Withdrew ₹{amount}. New balance: ₹{self.balance}\")\n",
    "\n",
    "acc = BankAccount(1000)\n",
    "acc.deposit(500)\n",
    "acc.withdraw(200)\n",
    "acc.withdraw(1500)"
   ]
  },
  {
   "cell_type": "code",
   "execution_count": 51,
   "id": "67926f18",
   "metadata": {},
   "outputs": [
    {
     "name": "stdout",
     "output_type": "stream",
     "text": [
      "Area: 50\n",
      "Perimeter: 30\n"
     ]
    }
   ],
   "source": [
    "# 3. Rectangle class\n",
    "class Rectangle:\n",
    "    def __init__(self, length, width):\n",
    "        self.length = length\n",
    "        self.width = width\n",
    "\n",
    "    def area(self):\n",
    "        return self.length * self.width\n",
    "\n",
    "    def perimeter(self):\n",
    "        return 2 * (self.length + self.width)\n",
    "\n",
    "rect = Rectangle(10, 5)\n",
    "print(\"Area:\", rect.area())\n",
    "print(\"Perimeter:\", rect.perimeter())"
   ]
  },
  {
   "cell_type": "code",
   "execution_count": 52,
   "id": "89b0dd61",
   "metadata": {},
   "outputs": [
    {
     "name": "stdout",
     "output_type": "stream",
     "text": [
      "'1984' by George Orwell (1949)\n"
     ]
    }
   ],
   "source": [
    "# 4. Book class\n",
    "class Book:\n",
    "    def __init__(self, title, author, year):\n",
    "        self.title = title\n",
    "        self.author = author\n",
    "        self.year = year\n",
    "\n",
    "    def display_info(self):\n",
    "        print(f\"'{self.title}' by {self.author} ({self.year})\")\n",
    "\n",
    "book1 = Book(\"1984\", \"George Orwell\", 1949)\n",
    "book1.display_info()"
   ]
  },
  {
   "cell_type": "code",
   "execution_count": 53,
   "id": "ea8dfbab",
   "metadata": {},
   "outputs": [
    {
     "name": "stdout",
     "output_type": "stream",
     "text": [
      "Toyota Corolla running at 80 km/h\n",
      "Honda City running at 100 km/h\n",
      "Tesla Model S running at 120 km/h\n"
     ]
    }
   ],
   "source": [
    "# 5. Car class\n",
    "class Car:\n",
    "    def __init__(self, model, speed=0):\n",
    "        self.model = model\n",
    "        self.speed = speed\n",
    "\n",
    "    def display(self):\n",
    "        print(f\"{self.model} running at {self.speed} km/h\")\n",
    "\n",
    "car1 = Car(\"Toyota Corolla\", 80)\n",
    "car2 = Car(\"Honda City\", 100)\n",
    "car3 = Car(\"Tesla Model S\", 120)\n",
    "\n",
    "car1.display()\n",
    "car2.display()\n",
    "car3.display()"
   ]
  },
  {
   "cell_type": "code",
   "execution_count": 54,
   "id": "8c1f6aa7",
   "metadata": {},
   "outputs": [
    {
     "name": "stdout",
     "output_type": "stream",
     "text": [
      "Brand: Dell, RAM: 8GB, Storage: 512GB\n",
      "Brand: HP, RAM: 16GB, Storage: 1TB\n"
     ]
    }
   ],
   "source": [
    "# 6. Laptop class\n",
    "class Laptop:\n",
    "    def __init__(self, brand=\"Dell\", ram=\"8GB\", storage=\"512GB\"):\n",
    "        self.brand = brand\n",
    "        self.ram = ram\n",
    "        self.storage = storage\n",
    "\n",
    "    def show_specs(self):\n",
    "        print(f\"Brand: {self.brand}, RAM: {self.ram}, Storage: {self.storage}\")\n",
    "\n",
    "laptop1 = Laptop()\n",
    "laptop2 = Laptop(\"HP\", \"16GB\", \"1TB\")\n",
    "\n",
    "laptop1.show_specs()\n",
    "laptop2.show_specs()"
   ]
  },
  {
   "cell_type": "markdown",
   "id": "05ce175b-aff0-4c54-86c1-cc05376babc7",
   "metadata": {},
   "source": [
    "<center> <h2 style= \"color:orange\"> Special Methods (__init__, __str__, __eq__, etc.) </h2> </center>\n",
    "\n",
    "7. Add `__str__` method to Book class to customize output. \n",
    "8. Add `__eq__` to Student class to compare students by grade. \n",
    "9. Implement `__len__` in Course class to return number of enrolled students. \n",
    "10. Use `__repr__` in Car class to return debug-friendly string. \n",
    "11. Add `__call__` to a FunctionHolder class and demonstrate how objects become callable. \n",
    "12. Add `__del__` to Account class to show destructor behavior. \n",
    "13. Implement `__add__` in a Vector class to add two vectors."
   ]
  },
  {
   "cell_type": "code",
   "execution_count": 55,
   "id": "0c3bea63",
   "metadata": {},
   "outputs": [
    {
     "name": "stdout",
     "output_type": "stream",
     "text": [
      "The Alchemist by Paulo Coelho, published in 1988\n"
     ]
    }
   ],
   "source": [
    "# 7. __str__ in Book class\n",
    "class Book:\n",
    "    def __init__(self, title, author, year):\n",
    "        self.title = title\n",
    "        self.author = author\n",
    "        self.year = year\n",
    "\n",
    "    def __str__(self):\n",
    "        return f\"{self.title} by {self.author}, published in {self.year}\"\n",
    "\n",
    "book1 = Book(\"The Alchemist\", \"Paulo Coelho\", 1988)\n",
    "print(book1)"
   ]
  },
  {
   "cell_type": "code",
   "execution_count": 56,
   "id": "32ce6083",
   "metadata": {},
   "outputs": [
    {
     "name": "stdout",
     "output_type": "stream",
     "text": [
      "True\n"
     ]
    }
   ],
   "source": [
    "\n",
    "# 8. __eq__ in Student class\n",
    "class Student:\n",
    "    def __init__(self, name, grade):\n",
    "        self.name = name\n",
    "        self.grade = grade\n",
    "\n",
    "    def __eq__(self, other):\n",
    "        return self.grade == other.grade\n",
    "\n",
    "s1 = Student(\"Wasiq\", \"A\")\n",
    "s2 = Student(\"Zainul\", \"A\")\n",
    "print(s1 == s2)"
   ]
  },
  {
   "cell_type": "code",
   "execution_count": 57,
   "id": "8e96d2f8",
   "metadata": {},
   "outputs": [
    {
     "name": "stdout",
     "output_type": "stream",
     "text": [
      "2\n"
     ]
    }
   ],
   "source": [
    "# 9. __len__ in Course class\n",
    "class Course:\n",
    "    def __init__(self, name):\n",
    "        self.name = name\n",
    "        self.students = []\n",
    "\n",
    "    def enroll(self, student):\n",
    "        self.students.append(student)\n",
    "\n",
    "    def __len__(self):\n",
    "        return len(self.students)\n",
    "\n",
    "c = Course(\"Python 101\")\n",
    "c.enroll(\"Wasiq\")\n",
    "c.enroll(\"Zainul\")\n",
    "print(len(c))"
   ]
  },
  {
   "cell_type": "code",
   "execution_count": 58,
   "id": "594f8023",
   "metadata": {},
   "outputs": [
    {
     "name": "stdout",
     "output_type": "stream",
     "text": [
      "Car(model='Tesla', speed=120)\n"
     ]
    }
   ],
   "source": [
    "# 10. __repr__ in Car class\n",
    "class Car:\n",
    "    def __init__(self, model, speed):\n",
    "        self.model = model\n",
    "        self.speed = speed\n",
    "\n",
    "    def __repr__(self):\n",
    "        return f\"Car(model='{self.model}', speed={self.speed})\"\n",
    "\n",
    "car = Car(\"Tesla\", 120)\n",
    "print(repr(car))"
   ]
  },
  {
   "cell_type": "code",
   "execution_count": 59,
   "id": "422a10d0",
   "metadata": {},
   "outputs": [
    {
     "name": "stdout",
     "output_type": "stream",
     "text": [
      "demo_function called with arguments: (10, 20)\n"
     ]
    }
   ],
   "source": [
    "# 11. __call__ in FunctionHolder class\n",
    "class FunctionHolder:\n",
    "    def __init__(self, func_name):\n",
    "        self.func_name = func_name\n",
    "\n",
    "    def __call__(self, *args):\n",
    "        print(f\"{self.func_name} called with arguments: {args}\")\n",
    "\n",
    "f = FunctionHolder(\"demo_function\")\n",
    "f(10, 20)"
   ]
  },
  {
   "cell_type": "code",
   "execution_count": 60,
   "id": "086b465f",
   "metadata": {},
   "outputs": [
    {
     "name": "stdout",
     "output_type": "stream",
     "text": [
      "Account created for Wasiq\n",
      "Account for Wasiq is being deleted\n"
     ]
    }
   ],
   "source": [
    "# 12. __del__ in Account class\n",
    "class Account:\n",
    "    def __init__(self, owner):\n",
    "        self.owner = owner\n",
    "        print(f\"Account created for {self.owner}\")\n",
    "\n",
    "    def __del__(self):\n",
    "        print(f\"Account for {self.owner} is being deleted\")\n",
    "\n",
    "a = Account(\"Wasiq\")\n",
    "del a  # Destructor is called"
   ]
  },
  {
   "cell_type": "code",
   "execution_count": 61,
   "id": "e63e80db",
   "metadata": {},
   "outputs": [
    {
     "name": "stdout",
     "output_type": "stream",
     "text": [
      "Vector(6, 4)\n"
     ]
    }
   ],
   "source": [
    "# 13. __add__ in Vector class\n",
    "class Vector:\n",
    "    def __init__(self, x, y):\n",
    "        self.x = x\n",
    "        self.y = y\n",
    "\n",
    "    def __add__(self, other):\n",
    "        return Vector(self.x + other.x, self.y + other.y)\n",
    "\n",
    "    def __str__(self):\n",
    "        return f\"Vector({self.x}, {self.y})\"\n",
    "\n",
    "v1 = Vector(2, 3)\n",
    "v2 = Vector(4, 1)\n",
    "v3 = v1 + v2\n",
    "print(v3)"
   ]
  },
  {
   "cell_type": "markdown",
   "id": "f8cbcf4e-ba0a-42b3-abbf-14a5642b7552",
   "metadata": {},
   "source": [
    "<center> <h2 style= \"color:orange\"> Instance, Class, and Static Methods </h2> </center>\n",
    "\n",
    "14. Create a Counter class with: \n",
    "    * instance variable count \n",
    "    * class variable total_counters \n",
    "    * static method to describe what a counter is. \n",
    "15. Use `@classmethod `to create a user using birth year. \n",
    "16. Create a Temperature class with a static method to convert Celsius to Fahrenheit. \n",
    "17. Build a User class to track number of users using class method."
   ]
  },
  {
   "cell_type": "code",
   "execution_count": 62,
   "id": "fae25380-1c0e-4cf1-9a2f-53acf2d12df8",
   "metadata": {
    "execution": {
     "iopub.execute_input": "2025-05-21T15:18:56.045752Z",
     "iopub.status.busy": "2025-05-21T15:18:56.044755Z",
     "iopub.status.idle": "2025-05-21T15:18:56.060755Z",
     "shell.execute_reply": "2025-05-21T15:18:56.058755Z",
     "shell.execute_reply.started": "2025-05-21T15:18:56.045752Z"
    }
   },
   "outputs": [
    {
     "name": "stdout",
     "output_type": "stream",
     "text": [
      "Counter 1: 1, Counter 2: 5, Total Counters: 2\n",
      "A counter is used to keep track of a numeric value that can be incremented.\n"
     ]
    }
   ],
   "source": [
    "# 14. Counter class\n",
    "class Counter:\n",
    "    total_counters = 0  # class variable\n",
    "\n",
    "    def __init__(self, count=0):\n",
    "        self.count = count  # instance variable\n",
    "        Counter.total_counters += 1\n",
    "\n",
    "    def increment(self):\n",
    "        self.count += 1\n",
    "\n",
    "    @staticmethod\n",
    "    def describe():\n",
    "        print(\"A counter is used to keep track of a numeric value that can be incremented.\")\n",
    "\n",
    "c1 = Counter()\n",
    "c2 = Counter(5)\n",
    "c1.increment()\n",
    "print(f\"Counter 1: {c1.count}, Counter 2: {c2.count}, Total Counters: {Counter.total_counters}\")\n",
    "Counter.describe()"
   ]
  },
  {
   "cell_type": "code",
   "execution_count": 63,
   "id": "0c9b2bce",
   "metadata": {},
   "outputs": [
    {
     "name": "stdout",
     "output_type": "stream",
     "text": [
      "Mohammad Wasiq is 25 years old.\n"
     ]
    }
   ],
   "source": [
    "# 15. Class method to create user from birth year\n",
    "from datetime import date\n",
    "\n",
    "class Person:\n",
    "    def __init__(self, name, age):\n",
    "        self.name = name\n",
    "        self.age = age\n",
    "\n",
    "    @classmethod\n",
    "    def from_birth_year(cls, name, birth_year):\n",
    "        return cls(name, date.today().year - birth_year)\n",
    "\n",
    "p1 = Person.from_birth_year(\"Mohammad Wasiq\", 2000)\n",
    "print(f\"{p1.name} is {p1.age} years old.\")"
   ]
  },
  {
   "cell_type": "code",
   "execution_count": 64,
   "id": "3fdddffa",
   "metadata": {},
   "outputs": [
    {
     "name": "stdout",
     "output_type": "stream",
     "text": [
      "30°C = 86.0 °F\n"
     ]
    }
   ],
   "source": [
    "# 16. Temperature class with static method\n",
    "class Temperature:\n",
    "    @staticmethod\n",
    "    def celsius_to_fahrenheit(c):\n",
    "        return (c * 9/5) + 32\n",
    "\n",
    "print(\"30°C =\", Temperature.celsius_to_fahrenheit(30), \"°F\")"
   ]
  },
  {
   "cell_type": "code",
   "execution_count": 65,
   "id": "bc321cf7",
   "metadata": {},
   "outputs": [
    {
     "name": "stdout",
     "output_type": "stream",
     "text": [
      "Total users: 2\n"
     ]
    }
   ],
   "source": [
    "# 17. User class tracking total users\n",
    "class User:\n",
    "    total_users = 0\n",
    "\n",
    "    def __init__(self, name):\n",
    "        self.name = name\n",
    "        User.total_users += 1\n",
    "\n",
    "    @classmethod\n",
    "    def display_user_count(cls):\n",
    "        print(f\"Total users: {cls.total_users}\")\n",
    "\n",
    "u1 = User(\"Wasiq\")\n",
    "u2 = User(\"Zainul\")\n",
    "User.display_user_count()"
   ]
  },
  {
   "cell_type": "markdown",
   "id": "90355e40-16d2-4259-98c6-22ca5f33f924",
   "metadata": {},
   "source": [
    "<center> <h2 style= \"color:orange\"> Inheritance, super(), MRO </h2> </center>\n",
    "\n",
    "18. Create a base class Person and derive Employee from it. \n",
    "19. Add a constructor in Employee using super() to call base constructor. \n",
    "20. Add a method in both Person and Employee to understand MRO. \n",
    "21. Create Animal → Dog hierarchy and override a method."
   ]
  },
  {
   "cell_type": "code",
   "execution_count": 66,
   "id": "c6c41653-3316-4eb7-9efe-e843c6def32b",
   "metadata": {
    "execution": {
     "iopub.execute_input": "2025-05-21T15:20:50.716490Z",
     "iopub.status.busy": "2025-05-21T15:20:50.715492Z",
     "iopub.status.idle": "2025-05-21T15:20:50.727494Z",
     "shell.execute_reply": "2025-05-21T15:20:50.726495Z",
     "shell.execute_reply.started": "2025-05-21T15:20:50.715492Z"
    }
   },
   "outputs": [
    {
     "name": "stdout",
     "output_type": "stream",
     "text": [
      "Wasiq, 25, is working as a Data Scientist.\n"
     ]
    }
   ],
   "source": [
    "# 18 & 19. Person → Employee with super()\n",
    "class Person:\n",
    "    def __init__(self, name, age):\n",
    "        self.name = name\n",
    "        self.age = age\n",
    "\n",
    "    def describe(self):\n",
    "        print(f\"{self.name} is {self.age} years old.\")\n",
    "\n",
    "class Employee(Person):\n",
    "    def __init__(self, name, age, job_title):\n",
    "        super().__init__(name, age)  # Calling Person's __init__\n",
    "        self.job_title = job_title\n",
    "\n",
    "    def describe(self):\n",
    "        print(f\"{self.name}, {self.age}, is working as a {self.job_title}.\")\n",
    "\n",
    "e1 = Employee(\"Wasiq\", 25, \"Data Scientist\")\n",
    "e1.describe()"
   ]
  },
  {
   "cell_type": "code",
   "execution_count": 67,
   "id": "8aa74b08",
   "metadata": {},
   "outputs": [
    {
     "name": "stdout",
     "output_type": "stream",
     "text": [
      "(<class '__main__.Employee'>, <class '__main__.Person'>, <class 'object'>)\n"
     ]
    }
   ],
   "source": [
    "# 20. MRO demonstration\n",
    "print(Employee.__mro__)  # Shows method resolution order"
   ]
  },
  {
   "cell_type": "code",
   "execution_count": 68,
   "id": "d41b58fd",
   "metadata": {},
   "outputs": [
    {
     "name": "stdout",
     "output_type": "stream",
     "text": [
      "Woof! Woof!\n"
     ]
    }
   ],
   "source": [
    "\n",
    "# 21. Animal → Dog with method override\n",
    "class Animal:\n",
    "    def speak(self):\n",
    "        print(\"Animal sound\")\n",
    "\n",
    "class Dog(Animal):\n",
    "    def speak(self):\n",
    "        print(\"Woof! Woof!\")\n",
    "\n",
    "dog = Dog()\n",
    "dog.speak()"
   ]
  },
  {
   "cell_type": "markdown",
   "id": "4272edaf",
   "metadata": {},
   "source": [
    "<center> <h2 style= \"color:orange\"> Multiple Inheritance </h2> </center>\n",
    "\n",
    "22. Build a SmartPhone class from Phone and Camera. \n",
    "23. Demonstrate MRO in a diamond inheritance problem. \n",
    "24. Create a HybridCar from ElectricCar and PetrolCar and test method resolution. \n",
    "25. Add constructors in all parent classes and use super() properly. "
   ]
  },
  {
   "cell_type": "code",
   "execution_count": 69,
   "id": "550eabbb-0788-4543-b014-069fa875940b",
   "metadata": {},
   "outputs": [
    {
     "name": "stdout",
     "output_type": "stream",
     "text": [
      "Making a call...\n",
      "Taking a photo...\n",
      "Browsing the internet...\n"
     ]
    }
   ],
   "source": [
    "# SmartPhone from Phone and Camera\n",
    "class Phone:\n",
    "    def call(self):\n",
    "        print(\"Making a call...\")\n",
    "\n",
    "class Camera:\n",
    "    def take_photo(self):\n",
    "        print(\"Taking a photo...\")\n",
    "\n",
    "class SmartPhone(Phone, Camera):\n",
    "    def browse(self):\n",
    "        print(\"Browsing the internet...\")\n",
    "\n",
    "sp = SmartPhone()\n",
    "sp.call()\n",
    "sp.take_photo()\n",
    "sp.browse()\n"
   ]
  },
  {
   "cell_type": "code",
   "execution_count": 70,
   "id": "1be96c6a",
   "metadata": {},
   "outputs": [
    {
     "name": "stdout",
     "output_type": "stream",
     "text": [
      "B\n",
      "(<class '__main__.D'>, <class '__main__.B'>, <class '__main__.C'>, <class '__main__.A'>, <class 'object'>)\n"
     ]
    }
   ],
   "source": [
    "# 23. Diamond Inheritance & MRO\n",
    "class A:\n",
    "    def show(self):\n",
    "        print(\"A\")\n",
    "\n",
    "class B(A):\n",
    "    def show(self):\n",
    "        print(\"B\")\n",
    "\n",
    "class C(A):\n",
    "    def show(self):\n",
    "        print(\"C\")\n",
    "\n",
    "class D(B, C):\n",
    "    pass\n",
    "\n",
    "obj = D()\n",
    "obj.show()\n",
    "print(D.__mro__)  # Method Resolution Order\n"
   ]
  },
  {
   "cell_type": "code",
   "execution_count": 71,
   "id": "5ffe02da",
   "metadata": {},
   "outputs": [
    {
     "name": "stdout",
     "output_type": "stream",
     "text": [
      "Initializing Vehicle\n",
      "Initializing PetrolCar\n",
      "Initializing ElectricCar\n",
      "Initializing HybridCar\n",
      "(<class '__main__.HybridCar'>, <class '__main__.ElectricCar'>, <class '__main__.PetrolCar'>, <class '__main__.Vehicle'>, <class 'object'>)\n"
     ]
    }
   ],
   "source": [
    "# 24 & 25. HybridCar from ElectricCar and PetrolCar using super()\n",
    "class Vehicle:\n",
    "    def __init__(self):\n",
    "        print(\"Initializing Vehicle\")\n",
    "\n",
    "class ElectricCar(Vehicle):\n",
    "    def __init__(self):\n",
    "        super().__init__()\n",
    "        print(\"Initializing ElectricCar\")\n",
    "\n",
    "class PetrolCar(Vehicle):\n",
    "    def __init__(self):\n",
    "        super().__init__()\n",
    "        print(\"Initializing PetrolCar\")\n",
    "\n",
    "class HybridCar(ElectricCar, PetrolCar):\n",
    "    def __init__(self):\n",
    "        super().__init__()\n",
    "        print(\"Initializing HybridCar\")\n",
    "\n",
    "car = HybridCar()\n",
    "print(HybridCar.__mro__)\n"
   ]
  },
  {
   "cell_type": "code",
   "execution_count": 72,
   "id": "24be7196",
   "metadata": {},
   "outputs": [
    {
     "name": "stdout",
     "output_type": "stream",
     "text": [
      "Vehicle\n",
      "PetrolCar\n",
      "ElectricCar\n",
      "HybridCar\n",
      "(<class '__main__.HybridCar'>, <class '__main__.ElectricCar'>, <class '__main__.PetrolCar'>, <class '__main__.Vehicle'>, <class 'object'>)\n"
     ]
    }
   ],
   "source": [
    "# OR\n",
    "\n",
    "class Vehicle:\n",
    "    def __init__(self):\n",
    "        print(\"Vehicle\")\n",
    "\n",
    "class ElectricCar(Vehicle):\n",
    "    def __init__(self):\n",
    "        super().__init__()\n",
    "        print(\"ElectricCar\")\n",
    "\n",
    "class PetrolCar(Vehicle):\n",
    "    def __init__(self):\n",
    "        super().__init__()\n",
    "        print(\"PetrolCar\")\n",
    "\n",
    "class HybridCar(ElectricCar, PetrolCar):\n",
    "    def __init__(self):\n",
    "        super().__init__()\n",
    "        print(\"HybridCar\")\n",
    "\n",
    "car = HybridCar()\n",
    "print(HybridCar.__mro__)"
   ]
  },
  {
   "cell_type": "markdown",
   "id": "710f7f72",
   "metadata": {},
   "source": [
    "<center> <h2 style= \"color:orange\"> Encapsulation & Name Mangling </h2> </center>\n",
    "\n",
    "26. Create a UserAccount with private password using __password. \n",
    "27. Write getter and setter methods to access private data. \n",
    "28. Show how name mangling prevents direct access. \n",
    "29. Access private variable using mangled name intentionally and explain the output. \n",
    "30. Create a Wallet class with balance encapsulated. "
   ]
  },
  {
   "cell_type": "code",
   "execution_count": 73,
   "id": "bc26a0e8",
   "metadata": {},
   "outputs": [],
   "source": [
    "# 26 & 27. UserAccount with private password\n",
    "class UserAccount:\n",
    "    def __init__(self, username, password):\n",
    "        self.username = username\n",
    "        self.__password = password  # private variable\n",
    "\n",
    "    def get_password(self):\n",
    "        return self.__password\n",
    "\n",
    "    def set_password(self, new_password):\n",
    "        self.__password = new_password\n"
   ]
  },
  {
   "cell_type": "code",
   "execution_count": 74,
   "id": "da9df2cf",
   "metadata": {},
   "outputs": [
    {
     "ename": "AttributeError",
     "evalue": "'UserAccount' object has no attribute '__password'",
     "output_type": "error",
     "traceback": [
      "\u001b[1;31m---------------------------------------------------------------------------\u001b[0m",
      "\u001b[1;31mAttributeError\u001b[0m                            Traceback (most recent call last)",
      "Cell \u001b[1;32mIn[74], line 3\u001b[0m\n\u001b[0;32m      1\u001b[0m \u001b[38;5;66;03m# 28. Name mangling prevents direct access\u001b[39;00m\n\u001b[0;32m      2\u001b[0m user \u001b[38;5;241m=\u001b[39m UserAccount(\u001b[38;5;124m\"\u001b[39m\u001b[38;5;124mMohammad\u001b[39m\u001b[38;5;124m\"\u001b[39m, \u001b[38;5;124m\"\u001b[39m\u001b[38;5;124msecret123\u001b[39m\u001b[38;5;124m\"\u001b[39m)\n\u001b[1;32m----> 3\u001b[0m \u001b[38;5;28mprint\u001b[39m(\u001b[43muser\u001b[49m\u001b[38;5;241;43m.\u001b[39;49m\u001b[43m__password\u001b[49m)  \u001b[38;5;66;03m# ❌ AttributeError\u001b[39;00m\n",
      "\u001b[1;31mAttributeError\u001b[0m: 'UserAccount' object has no attribute '__password'"
     ]
    }
   ],
   "source": [
    "\n",
    "# 28. Name mangling prevents direct access\n",
    "user = UserAccount(\"Mohammad\", \"secret123\")\n",
    "print(user.__password)  # ❌ AttributeError\n"
   ]
  },
  {
   "cell_type": "code",
   "execution_count": 75,
   "id": "82f7436f",
   "metadata": {},
   "outputs": [
    {
     "name": "stdout",
     "output_type": "stream",
     "text": [
      "secret123\n"
     ]
    }
   ],
   "source": [
    "\n",
    "# 29. Access using mangled name (not recommended, but possible)\n",
    "print(user._UserAccount__password) "
   ]
  },
  {
   "cell_type": "code",
   "execution_count": 76,
   "id": "1482a4db",
   "metadata": {},
   "outputs": [
    {
     "name": "stdout",
     "output_type": "stream",
     "text": [
      "Wallet Balance: 750\n"
     ]
    }
   ],
   "source": [
    "# 30. Wallet class with encapsulated balance\n",
    "class Wallet:\n",
    "    def __init__(self, initial_balance=0):\n",
    "        self.__balance = initial_balance\n",
    "\n",
    "    def deposit(self, amount):\n",
    "        if amount > 0:\n",
    "            self.__balance += amount\n",
    "\n",
    "    def get_balance(self):\n",
    "        return self.__balance\n",
    "\n",
    "my_wallet = Wallet(500)\n",
    "my_wallet.deposit(250)\n",
    "print(\"Wallet Balance:\", my_wallet.get_balance())\n"
   ]
  },
  {
   "cell_type": "markdown",
   "id": "37f1e6c8",
   "metadata": {},
   "source": [
    "<center> <h2 style= \"color:orange\"> Abstraction with ABC (Abstract Base Class) </h2> </center>\n",
    "\n",
    "31. Create an abstract class Shape with abstract method area(). \n",
    "32. Derive Circle, Square, and implement area() differently. \n",
    "33. Raise TypeError when trying to instantiate abstract class directly. \n",
    "34. Use ABCMeta and abstractmethod from abc module. \n",
    "35. Build EuronDevice abstract class and implement subclasses like EuronTablet, "
   ]
  },
  {
   "cell_type": "code",
   "execution_count": 77,
   "id": "c6ed347e",
   "metadata": {},
   "outputs": [],
   "source": [
    "# 31–34. Abstract base class Shape\n",
    "from abc import ABC, ABCMeta, abstractmethod\n",
    "\n",
    "class Shape(ABC):\n",
    "    @abstractmethod\n",
    "    def area(self):\n",
    "        pass"
   ]
  },
  {
   "cell_type": "code",
   "execution_count": 78,
   "id": "b7a75669",
   "metadata": {},
   "outputs": [],
   "source": [
    "# 32. Derived Circle and Square classes\n",
    "import math\n",
    "\n",
    "class Circle(Shape):\n",
    "    def __init__(self, radius):\n",
    "        self.radius = radius\n",
    "\n",
    "    def area(self):\n",
    "        return math.pi * self.radius ** 2\n",
    "\n",
    "class Square(Shape):\n",
    "    def __init__(self, side):\n",
    "        self.side = side\n",
    "\n",
    "    def area(self):\n",
    "        return self.side ** 2"
   ]
  },
  {
   "cell_type": "code",
   "execution_count": 79,
   "id": "8a7f8443",
   "metadata": {},
   "outputs": [
    {
     "name": "stdout",
     "output_type": "stream",
     "text": [
      "Error: Can't instantiate abstract class Shape with abstract method area\n",
      "Circle Area: 28.274333882308138\n",
      "Square Area: 16\n"
     ]
    }
   ],
   "source": [
    "# 33. Attempt to instantiate abstract class\n",
    "try:\n",
    "    s = Shape()  # ❌ Raises TypeError\n",
    "except TypeError as e:\n",
    "    print(\"Error:\", e)\n",
    "\n",
    "circle = Circle(3)\n",
    "square = Square(4)\n",
    "print(\"Circle Area:\", circle.area())\n",
    "print(\"Square Area:\", square.area())"
   ]
  },
  {
   "cell_type": "code",
   "execution_count": 80,
   "id": "edd43f00",
   "metadata": {},
   "outputs": [
    {
     "name": "stdout",
     "output_type": "stream",
     "text": [
      "Tablet: 10-inch display, 6GB RAM\n",
      "Laptop: 15.6-inch display, 16GB RAM, i7 processor\n"
     ]
    }
   ],
   "source": [
    "# 35. EuronDevice & its subclasses\n",
    "class EuronDevice(ABC):\n",
    "    @abstractmethod\n",
    "    def specs(self):\n",
    "        pass\n",
    "\n",
    "class EuronTablet(EuronDevice):\n",
    "    def specs(self):\n",
    "        return \"Tablet: 10-inch display, 6GB RAM\"\n",
    "\n",
    "class EuronLaptop(EuronDevice):\n",
    "    def specs(self):\n",
    "        return \"Laptop: 15.6-inch display, 16GB RAM, i7 processor\"\n",
    "\n",
    "tablet = EuronTablet()\n",
    "laptop = EuronLaptop()\n",
    "print(tablet.specs())\n",
    "print(laptop.specs())\n"
   ]
  },
  {
   "cell_type": "markdown",
   "id": "a817d321",
   "metadata": {},
   "source": [
    "<center> <h2 style= \"color:orange\"> Duck Typing </h2> </center>\n",
    "\n",
    "36. Create a function describe(obj) that accepts any object with name and describe() method. \n",
    "37. Demonstrate duck typing by passing multiple unrelated classes to a single function. \n",
    "38. Create two unrelated classes that support len(), str(), and eq() and pass them to a common handler. \n",
    "39. Build a Renderer class that accepts objects with render() method (e.g., PDF, HTML). \n",
    "40. Demonstrate duck typing with EuronLogger that logs anything with a .log() method. \n",
    "41. Implement a polymorphic function that handles both Student and Teacher without inheritance. \n",
    "42. Pass a list of mixed objects (from different classes) and call the same method in a loop."
   ]
  },
  {
   "cell_type": "code",
   "execution_count": 81,
   "id": "4c915088",
   "metadata": {},
   "outputs": [],
   "source": [
    "# 36. describe(obj) accepting any object with name and describe()\n",
    "def describe(obj):\n",
    "    print(f\"Name: {obj.name}\")\n",
    "    obj.describe()\n"
   ]
  },
  {
   "cell_type": "code",
   "execution_count": 82,
   "id": "ad3b0863",
   "metadata": {},
   "outputs": [
    {
     "name": "stdout",
     "output_type": "stream",
     "text": [
      "Name: Bruno\n",
      "A loyal canine.\n",
      "Name: Mars\n",
      "A celestial body.\n"
     ]
    }
   ],
   "source": [
    "# 37. Duck Typing with unrelated classes\n",
    "\n",
    "class Dog:\n",
    "    def __init__(self, name):\n",
    "        self.name = name\n",
    "\n",
    "    def describe(self):\n",
    "        print(\"A loyal canine.\")\n",
    "\n",
    "class Planet:\n",
    "    def __init__(self, name):\n",
    "        self.name = name\n",
    "\n",
    "    def describe(self):\n",
    "        print(\"A celestial body.\")\n",
    "\n",
    "describe(Dog(\"Bruno\"))\n",
    "describe(Planet(\"Mars\"))"
   ]
  },
  {
   "cell_type": "code",
   "execution_count": 83,
   "id": "3650074a",
   "metadata": {},
   "outputs": [
    {
     "name": "stdout",
     "output_type": "stream",
     "text": [
      "Object 1:\n",
      "line1\n",
      "line2\n",
      "Object 2:\n",
      "line1-line2\n",
      "Equal: False\n",
      "Length Equal: True\n"
     ]
    }
   ],
   "source": [
    "# 38. Unrelated classes with len(), str(), and ==\n",
    "\n",
    "class CodeBlock:\n",
    "    def __init__(self, lines):\n",
    "        self.lines = lines\n",
    "\n",
    "    def __len__(self):\n",
    "        return len(self.lines)\n",
    "\n",
    "    def __str__(self):\n",
    "        return \"\\n\".join(self.lines)\n",
    "\n",
    "    def __eq__(self, other):\n",
    "        return str(self) == str(other)  # Duck-typed equality\n",
    "\n",
    "\n",
    "class MusicTrack:\n",
    "    def __init__(self, notes):\n",
    "        self.notes = notes\n",
    "\n",
    "    def __len__(self):\n",
    "        return len(self.notes)\n",
    "\n",
    "    def __str__(self):\n",
    "        return \"-\".join(self.notes)\n",
    "\n",
    "    def __eq__(self, other):\n",
    "        return str(self) == str(other)\n",
    "\n",
    "\n",
    "def analyze(obj1, obj2):\n",
    "    print(\"Object 1:\")\n",
    "    print(str(obj1))\n",
    "    print(\"Object 2:\")\n",
    "    print(str(obj2))\n",
    "    print(\"Equal:\", obj1 == obj2)\n",
    "    print(\"Length Equal:\", len(obj1) == len(obj2))\n",
    "\n",
    "\n",
    "cb = CodeBlock([\"line1\", \"line2\"])\n",
    "mt = MusicTrack([\"line1\", \"line2\"])\n",
    "analyze(cb, mt)\n"
   ]
  },
  {
   "cell_type": "code",
   "execution_count": 84,
   "id": "0224bf53",
   "metadata": {},
   "outputs": [
    {
     "name": "stdout",
     "output_type": "stream",
     "text": [
      "Rendering PDF...\n",
      "Rendering HTML...\n"
     ]
    }
   ],
   "source": [
    "# 39. Renderer accepting any object with render()\n",
    "\n",
    "class PDF:\n",
    "    def render(self):\n",
    "        print(\"Rendering PDF...\")\n",
    "\n",
    "class HTML:\n",
    "    def render(self):\n",
    "        print(\"Rendering HTML...\")\n",
    "\n",
    "class Renderer:\n",
    "    def render_document(self, doc):\n",
    "        doc.render()\n",
    "\n",
    "r = Renderer()\n",
    "r.render_document(PDF())\n",
    "r.render_document(HTML())"
   ]
  },
  {
   "cell_type": "code",
   "execution_count": 85,
   "id": "8a8ef669",
   "metadata": {},
   "outputs": [
    {
     "name": "stdout",
     "output_type": "stream",
     "text": [
      "[Console] This is a log message.\n",
      "[File] Writing to log file: This is a log message.\n"
     ]
    }
   ],
   "source": [
    "# 40. Duck typing with .log() method\n",
    "\n",
    "class ConsoleLogger:\n",
    "    def log(self, msg):\n",
    "        print(f\"[Console] {msg}\")\n",
    "\n",
    "class FileLogger:\n",
    "    def log(self, msg):\n",
    "        print(f\"[File] Writing to log file: {msg}\")\n",
    "\n",
    "def EuronLogger(logger):\n",
    "    logger.log(\"This is a log message.\")\n",
    "\n",
    "EuronLogger(ConsoleLogger())\n",
    "EuronLogger(FileLogger())"
   ]
  },
  {
   "cell_type": "code",
   "execution_count": 86,
   "id": "62c6f55d",
   "metadata": {},
   "outputs": [
    {
     "name": "stdout",
     "output_type": "stream",
     "text": [
      "I'm student Wasiq.\n",
      "I'm teacher Zainul.\n"
     ]
    }
   ],
   "source": [
    "# 41. Handle Student and Teacher without inheritance\n",
    "\n",
    "class Student:\n",
    "    def __init__(self, name):\n",
    "        self.name = name\n",
    "\n",
    "    def introduce(self):\n",
    "        print(f\"I'm student {self.name}.\")\n",
    "\n",
    "class Teacher:\n",
    "    def __init__(self, name):\n",
    "        self.name = name\n",
    "\n",
    "    def introduce(self):\n",
    "        print(f\"I'm teacher {self.name}.\")\n",
    "\n",
    "def welcome(entity):\n",
    "    entity.introduce()\n",
    "\n",
    "welcome(Student(\"Wasiq\"))\n",
    "welcome(Teacher(\"Zainul\"))"
   ]
  },
  {
   "cell_type": "code",
   "execution_count": null,
   "id": "1a437ef4",
   "metadata": {},
   "outputs": [
    {
     "name": "stdout",
     "output_type": "stream",
     "text": [
      "Sending email...\n",
      "Sending SMS...\n",
      "Sending push notification...\n"
     ]
    }
   ],
   "source": [
    "# 42. Loop through mixed objects and call the same method\n",
    "class Email:\n",
    "    def send(self):\n",
    "        print(\"Sending email...\")\n",
    "\n",
    "class SMS:\n",
    "    def send(self):\n",
    "        print(\"Sending SMS...\")\n",
    "\n",
    "class PushNotification:\n",
    "    def send(self):\n",
    "        print(\"Sending push notification...\")\n",
    "\n",
    "messages = [Email(), SMS(), PushNotification()]\n",
    "for message in messages:\n",
    "    message.send()"
   ]
  }
 ],
 "metadata": {
  "kernelspec": {
   "display_name": "Python 3",
   "language": "python",
   "name": "python3"
  },
  "language_info": {
   "codemirror_mode": {
    "name": "ipython",
    "version": 3
   },
   "file_extension": ".py",
   "mimetype": "text/x-python",
   "name": "python",
   "nbconvert_exporter": "python",
   "pygments_lexer": "ipython3",
   "version": "3.10.0"
  },
  "widgets": {
   "application/vnd.jupyter.widget-state+json": {
    "state": {},
    "version_major": 2,
    "version_minor": 0
   }
  }
 },
 "nbformat": 4,
 "nbformat_minor": 5
}
