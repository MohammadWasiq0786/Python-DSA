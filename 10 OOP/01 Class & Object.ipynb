{
 "cells": [
  {
   "cell_type": "code",
   "execution_count": 2,
   "id": "1f10e056",
   "metadata": {},
   "outputs": [],
   "source": [
    "class test:\n",
    "    pass"
   ]
  },
  {
   "cell_type": "code",
   "execution_count": 6,
   "id": "1bad5571",
   "metadata": {},
   "outputs": [],
   "source": [
    "class course :\n",
    "    def course_details(self , course_name):\n",
    "        print(course_name)"
   ]
  },
  {
   "cell_type": "code",
   "execution_count": 7,
   "id": "d1e9a03c",
   "metadata": {},
   "outputs": [],
   "source": [
    "c = course()"
   ]
  },
  {
   "cell_type": "code",
   "execution_count": 8,
   "id": "e5014003",
   "metadata": {},
   "outputs": [
    {
     "name": "stdout",
     "output_type": "stream",
     "text": [
      "data science\n"
     ]
    }
   ],
   "source": [
    "c.course_details(\"data science\")"
   ]
  },
  {
   "cell_type": "code",
   "execution_count": 9,
   "id": "ac6aff5a",
   "metadata": {},
   "outputs": [],
   "source": [
    "class course1 :\n",
    "    def course_details(sudh , course_name):\n",
    "        print(course_name)"
   ]
  },
  {
   "cell_type": "code",
   "execution_count": 10,
   "id": "2c3db1fa",
   "metadata": {},
   "outputs": [],
   "source": [
    "d = course1()"
   ]
  },
  {
   "cell_type": "code",
   "execution_count": 11,
   "id": "a4dd8e14",
   "metadata": {},
   "outputs": [
    {
     "name": "stdout",
     "output_type": "stream",
     "text": [
      "python\n"
     ]
    }
   ],
   "source": [
    "d.course_details(\"python\")"
   ]
  },
  {
   "cell_type": "code",
   "execution_count": 12,
   "id": "ba07ebc0",
   "metadata": {},
   "outputs": [],
   "source": [
    "e = course1()"
   ]
  },
  {
   "cell_type": "code",
   "execution_count": 13,
   "id": "103e9adf",
   "metadata": {},
   "outputs": [],
   "source": [
    "f = course1()"
   ]
  },
  {
   "cell_type": "code",
   "execution_count": 15,
   "id": "8fc2ba73",
   "metadata": {},
   "outputs": [],
   "source": [
    "i =10"
   ]
  },
  {
   "cell_type": "code",
   "execution_count": null,
   "id": "88e1be56",
   "metadata": {},
   "outputs": [],
   "source": [
    "class course :\n",
    "    def __init__(self,name,mentor):\n",
    "        self.name1 = name\n",
    "        self.mentor1 = mentor\n",
    "    "
   ]
  },
  {
   "cell_type": "code",
   "execution_count": 22,
   "id": "db16fb42",
   "metadata": {},
   "outputs": [],
   "source": [
    "a = course(\"python\",\"sudh\")"
   ]
  },
  {
   "cell_type": "code",
   "execution_count": 24,
   "id": "9d4cfd28",
   "metadata": {},
   "outputs": [
    {
     "data": {
      "text/plain": [
       "'sudh'"
      ]
     },
     "execution_count": 24,
     "metadata": {},
     "output_type": "execute_result"
    }
   ],
   "source": [
    "a.mentor1"
   ]
  },
  {
   "cell_type": "code",
   "execution_count": 20,
   "id": "5bf3c884",
   "metadata": {},
   "outputs": [
    {
     "data": {
      "text/plain": [
       "'python'"
      ]
     },
     "execution_count": 20,
     "metadata": {},
     "output_type": "execute_result"
    }
   ],
   "source": [
    "a.name"
   ]
  },
  {
   "cell_type": "code",
   "execution_count": 25,
   "id": "79996b42",
   "metadata": {},
   "outputs": [],
   "source": [
    "b = course(\"data science\" ,\"sudhanshu\")"
   ]
  },
  {
   "cell_type": "code",
   "execution_count": 26,
   "id": "bc8577e4",
   "metadata": {},
   "outputs": [
    {
     "data": {
      "text/plain": [
       "'sudhanshu'"
      ]
     },
     "execution_count": 26,
     "metadata": {},
     "output_type": "execute_result"
    }
   ],
   "source": [
    "b.mentor1"
   ]
  },
  {
   "cell_type": "code",
   "execution_count": 27,
   "id": "f4ac97fd",
   "metadata": {},
   "outputs": [
    {
     "data": {
      "text/plain": [
       "'data science'"
      ]
     },
     "execution_count": 27,
     "metadata": {},
     "output_type": "execute_result"
    }
   ],
   "source": [
    "b.name1"
   ]
  },
  {
   "cell_type": "code",
   "execution_count": 28,
   "id": "1d5a5800",
   "metadata": {},
   "outputs": [],
   "source": [
    "class course :\n",
    "    def __init__(self,name,mentor):\n",
    "        self.name1 = name\n",
    "        self.mentor1 = mentor\n",
    "        \n",
    "    def dispaly(self):\n",
    "        print(self.mentor1 , self.name1)"
   ]
  },
  {
   "cell_type": "code",
   "execution_count": 29,
   "id": "59b94fce",
   "metadata": {},
   "outputs": [],
   "source": [
    "a = course(\"python\",\"xyz\")"
   ]
  },
  {
   "cell_type": "code",
   "execution_count": 30,
   "id": "0791ca66",
   "metadata": {},
   "outputs": [
    {
     "name": "stdout",
     "output_type": "stream",
     "text": [
      "xyz python\n"
     ]
    }
   ],
   "source": [
    "a.dispaly()"
   ]
  },
  {
   "cell_type": "code",
   "execution_count": 31,
   "id": "48f98809",
   "metadata": {},
   "outputs": [],
   "source": [
    "b = course(\"big data\" , \"sudh\")"
   ]
  },
  {
   "cell_type": "code",
   "execution_count": 32,
   "id": "184f6891",
   "metadata": {},
   "outputs": [
    {
     "name": "stdout",
     "output_type": "stream",
     "text": [
      "sudh big data\n"
     ]
    }
   ],
   "source": [
    "b.dispaly()"
   ]
  },
  {
   "cell_type": "code",
   "execution_count": 33,
   "id": "a613d118",
   "metadata": {},
   "outputs": [],
   "source": [
    "c = course(\"generative ai\" , \"sudh\")"
   ]
  },
  {
   "cell_type": "code",
   "execution_count": 34,
   "id": "477387b5",
   "metadata": {},
   "outputs": [
    {
     "name": "stdout",
     "output_type": "stream",
     "text": [
      "sudh generative ai\n"
     ]
    }
   ],
   "source": [
    "c.dispaly()"
   ]
  },
  {
   "cell_type": "code",
   "execution_count": 35,
   "id": "badb06f1",
   "metadata": {},
   "outputs": [
    {
     "data": {
      "text/plain": [
       "'sudh'"
      ]
     },
     "execution_count": 35,
     "metadata": {},
     "output_type": "execute_result"
    }
   ],
   "source": [
    "c.mentor1"
   ]
  },
  {
   "cell_type": "code",
   "execution_count": 36,
   "id": "7f425020",
   "metadata": {},
   "outputs": [
    {
     "data": {
      "text/plain": [
       "'generative ai'"
      ]
     },
     "execution_count": 36,
     "metadata": {},
     "output_type": "execute_result"
    }
   ],
   "source": [
    "c.name1"
   ]
  },
  {
   "cell_type": "code",
   "execution_count": 37,
   "id": "5245f75d",
   "metadata": {},
   "outputs": [],
   "source": [
    "c.name1 = \"agentic ai\""
   ]
  },
  {
   "cell_type": "code",
   "execution_count": 38,
   "id": "811abef1",
   "metadata": {},
   "outputs": [
    {
     "data": {
      "text/plain": [
       "'agentic ai'"
      ]
     },
     "execution_count": 38,
     "metadata": {},
     "output_type": "execute_result"
    }
   ],
   "source": [
    "c.name1"
   ]
  }
 ],
 "metadata": {
  "kernelspec": {
   "display_name": "agentdemo",
   "language": "python",
   "name": "python3"
  },
  "language_info": {
   "codemirror_mode": {
    "name": "ipython",
    "version": 3
   },
   "file_extension": ".py",
   "mimetype": "text/x-python",
   "name": "python",
   "nbconvert_exporter": "python",
   "pygments_lexer": "ipython3",
   "version": "3.11.11"
  }
 },
 "nbformat": 4,
 "nbformat_minor": 5
}
