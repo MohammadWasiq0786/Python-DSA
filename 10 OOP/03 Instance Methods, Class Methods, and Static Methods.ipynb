{
 "cells": [
  {
   "cell_type": "code",
   "execution_count": 1,
   "id": "89f6067e",
   "metadata": {},
   "outputs": [],
   "source": [
    "class mentor:\n",
    "    def __init__(self,name):\n",
    "        self.name = name\n",
    "        \n",
    "    def introduction(self):\n",
    "        return f\"i am a mentor {self.name} on euron\""
   ]
  },
  {
   "cell_type": "code",
   "execution_count": 2,
   "id": "2969984e",
   "metadata": {},
   "outputs": [],
   "source": [
    "a = mentor(\"sudh\")"
   ]
  },
  {
   "cell_type": "code",
   "execution_count": 3,
   "id": "68e43761",
   "metadata": {},
   "outputs": [
    {
     "data": {
      "text/plain": [
       "'i am a mentor sudh on euron'"
      ]
     },
     "execution_count": 3,
     "metadata": {},
     "output_type": "execute_result"
    }
   ],
   "source": [
    "a.introduction()"
   ]
  },
  {
   "cell_type": "code",
   "execution_count": 4,
   "id": "a5d08de6",
   "metadata": {},
   "outputs": [],
   "source": [
    "b = mentor(\"sudhanshu\")"
   ]
  },
  {
   "cell_type": "code",
   "execution_count": 5,
   "id": "95e541cc",
   "metadata": {},
   "outputs": [
    {
     "data": {
      "text/plain": [
       "'i am a mentor sudhanshu on euron'"
      ]
     },
     "execution_count": 5,
     "metadata": {},
     "output_type": "execute_result"
    }
   ],
   "source": [
    "b.introduction()"
   ]
  },
  {
   "cell_type": "code",
   "execution_count": 6,
   "id": "5227f6ea",
   "metadata": {},
   "outputs": [],
   "source": [
    "class course:\n",
    "    total_course = 0\n",
    "    \n",
    "    def __init__(self,title):\n",
    "        self.title= title\n",
    "        course.total_course= course.total_course + 1\n",
    "      \n",
    "    @classmethod  \n",
    "    def get_total_course(cls):\n",
    "        return cls.total_course  \n",
    "        "
   ]
  },
  {
   "cell_type": "code",
   "execution_count": 19,
   "id": "88d629ba",
   "metadata": {},
   "outputs": [],
   "source": [
    "a = course(\"python\")"
   ]
  },
  {
   "cell_type": "code",
   "execution_count": 20,
   "id": "70ff70a4",
   "metadata": {},
   "outputs": [],
   "source": [
    "b = course(\"mlops\")"
   ]
  },
  {
   "cell_type": "code",
   "execution_count": 21,
   "id": "144b1fce",
   "metadata": {},
   "outputs": [],
   "source": [
    "c = course(\"dsa\")"
   ]
  },
  {
   "cell_type": "code",
   "execution_count": 22,
   "id": "cdb75443",
   "metadata": {},
   "outputs": [
    {
     "data": {
      "text/plain": [
       "12"
      ]
     },
     "execution_count": 22,
     "metadata": {},
     "output_type": "execute_result"
    }
   ],
   "source": [
    "a.get_total_course()"
   ]
  },
  {
   "cell_type": "code",
   "execution_count": 14,
   "id": "82f12a24",
   "metadata": {},
   "outputs": [
    {
     "data": {
      "text/plain": [
       "6"
      ]
     },
     "execution_count": 14,
     "metadata": {},
     "output_type": "execute_result"
    }
   ],
   "source": [
    "b.get_total_course()"
   ]
  },
  {
   "cell_type": "code",
   "execution_count": 23,
   "id": "167e0b5a",
   "metadata": {},
   "outputs": [
    {
     "data": {
      "text/plain": [
       "12"
      ]
     },
     "execution_count": 23,
     "metadata": {},
     "output_type": "execute_result"
    }
   ],
   "source": [
    "course.get_total_course()"
   ]
  },
  {
   "cell_type": "code",
   "execution_count": 24,
   "id": "94684ff2",
   "metadata": {},
   "outputs": [],
   "source": [
    "class Students:\n",
    "    @staticmethod\n",
    "    def is_valid_email(email):\n",
    "        return \"@\" in email and \".\" in email"
   ]
  },
  {
   "cell_type": "code",
   "execution_count": 25,
   "id": "5b81e2c5",
   "metadata": {},
   "outputs": [
    {
     "data": {
      "text/plain": [
       "True"
      ]
     },
     "execution_count": 25,
     "metadata": {},
     "output_type": "execute_result"
    }
   ],
   "source": [
    "Students.is_valid_email(\"sudhanshu@euron.one\")"
   ]
  },
  {
   "cell_type": "code",
   "execution_count": null,
   "id": "2ea621f9",
   "metadata": {},
   "outputs": [],
   "source": []
  }
 ],
 "metadata": {
  "kernelspec": {
   "display_name": "agentdemo",
   "language": "python",
   "name": "python3"
  },
  "language_info": {
   "codemirror_mode": {
    "name": "ipython",
    "version": 3
   },
   "file_extension": ".py",
   "mimetype": "text/x-python",
   "name": "python",
   "nbconvert_exporter": "python",
   "pygments_lexer": "ipython3",
   "version": "3.11.11"
  }
 },
 "nbformat": 4,
 "nbformat_minor": 5
}
