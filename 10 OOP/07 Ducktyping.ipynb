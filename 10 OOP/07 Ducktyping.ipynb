{
 "cells": [
  {
   "cell_type": "code",
   "execution_count": 1,
   "id": "71a395e0",
   "metadata": {},
   "outputs": [],
   "source": [
    "class video:\n",
    "    def preview(self):\n",
    "        print(\"shwing a video preview\")\n",
    "        \n",
    "class Document:\n",
    "    def preview(self):\n",
    "        print(\"showing a document preview\")"
   ]
  },
  {
   "cell_type": "code",
   "execution_count": 2,
   "id": "f4f64ad2",
   "metadata": {},
   "outputs": [],
   "source": [
    "def show_preview(obj):\n",
    "    obj.preview()"
   ]
  },
  {
   "cell_type": "code",
   "execution_count": 3,
   "id": "5cca1a97",
   "metadata": {},
   "outputs": [],
   "source": [
    "v  = video()\n",
    "d = Document()"
   ]
  },
  {
   "cell_type": "code",
   "execution_count": 4,
   "id": "030be661",
   "metadata": {},
   "outputs": [
    {
     "name": "stdout",
     "output_type": "stream",
     "text": [
      "shwing a video preview\n"
     ]
    }
   ],
   "source": [
    "show_preview(v)"
   ]
  },
  {
   "cell_type": "code",
   "execution_count": 5,
   "id": "926ac968",
   "metadata": {},
   "outputs": [
    {
     "name": "stdout",
     "output_type": "stream",
     "text": [
      "showing a document preview\n"
     ]
    }
   ],
   "source": [
    "show_preview(d)"
   ]
  },
  {
   "cell_type": "code",
   "execution_count": 6,
   "id": "4cdbaf0c",
   "metadata": {},
   "outputs": [],
   "source": [
    "class course:\n",
    "    def __init__(self,topics):\n",
    "        self.topics = topics\n",
    "        \n",
    "    def __len__(self):\n",
    "        return len(self.topics)"
   ]
  },
  {
   "cell_type": "code",
   "execution_count": 7,
   "id": "3d163942",
   "metadata": {},
   "outputs": [],
   "source": [
    "c = course([4,5,6,7,8])"
   ]
  },
  {
   "cell_type": "code",
   "execution_count": 8,
   "id": "cc82eaad",
   "metadata": {},
   "outputs": [
    {
     "data": {
      "text/plain": [
       "5"
      ]
     },
     "execution_count": 8,
     "metadata": {},
     "output_type": "execute_result"
    }
   ],
   "source": [
    "len(c)"
   ]
  },
  {
   "cell_type": "code",
   "execution_count": 9,
   "id": "7295161a",
   "metadata": {},
   "outputs": [],
   "source": [
    "c1 = course(\"python\")"
   ]
  },
  {
   "cell_type": "code",
   "execution_count": 10,
   "id": "40635dd2",
   "metadata": {},
   "outputs": [
    {
     "data": {
      "text/plain": [
       "6"
      ]
     },
     "execution_count": 10,
     "metadata": {},
     "output_type": "execute_result"
    }
   ],
   "source": [
    "len(c1)"
   ]
  },
  {
   "cell_type": "code",
   "execution_count": 11,
   "id": "78d37a83",
   "metadata": {},
   "outputs": [],
   "source": [
    "c1 = course((4,5,6,7))"
   ]
  },
  {
   "cell_type": "code",
   "execution_count": 12,
   "id": "469b4df8",
   "metadata": {},
   "outputs": [
    {
     "data": {
      "text/plain": [
       "4"
      ]
     },
     "execution_count": 12,
     "metadata": {},
     "output_type": "execute_result"
    }
   ],
   "source": [
    "len(c1)"
   ]
  },
  {
   "cell_type": "code",
   "execution_count": null,
   "id": "d70cef1f",
   "metadata": {},
   "outputs": [],
   "source": []
  }
 ],
 "metadata": {
  "kernelspec": {
   "display_name": "agentdemo",
   "language": "python",
   "name": "python3"
  },
  "language_info": {
   "codemirror_mode": {
    "name": "ipython",
    "version": 3
   },
   "file_extension": ".py",
   "mimetype": "text/x-python",
   "name": "python",
   "nbconvert_exporter": "python",
   "pygments_lexer": "ipython3",
   "version": "3.11.11"
  }
 },
 "nbformat": 4,
 "nbformat_minor": 5
}
