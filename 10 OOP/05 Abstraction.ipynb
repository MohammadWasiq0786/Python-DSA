{
 "cells": [
  {
   "cell_type": "code",
   "execution_count": 3,
   "id": "021eb65b",
   "metadata": {},
   "outputs": [],
   "source": [
    "from abc import ABC ,abstractmethod"
   ]
  },
  {
   "cell_type": "code",
   "execution_count": 4,
   "id": "30cde497",
   "metadata": {},
   "outputs": [],
   "source": [
    "class mentor(ABC):\n",
    "    @abstractmethod\n",
    "    def teach(self):\n",
    "        pass"
   ]
  },
  {
   "cell_type": "code",
   "execution_count": 5,
   "id": "f446b8de",
   "metadata": {},
   "outputs": [],
   "source": [
    "class euronmentor(mentor):\n",
    "    def teach(self):\n",
    "        return \"this is my teach method\""
   ]
  },
  {
   "cell_type": "code",
   "execution_count": 6,
   "id": "b63a6bfd",
   "metadata": {},
   "outputs": [
    {
     "ename": "TypeError",
     "evalue": "Can't instantiate abstract class mentor with abstract method teach",
     "output_type": "error",
     "traceback": [
      "\u001b[31m---------------------------------------------------------------------------\u001b[39m",
      "\u001b[31mTypeError\u001b[39m                                 Traceback (most recent call last)",
      "\u001b[36mCell\u001b[39m\u001b[36m \u001b[39m\u001b[32mIn[6]\u001b[39m\u001b[32m, line 1\u001b[39m\n\u001b[32m----> \u001b[39m\u001b[32m1\u001b[39m m = \u001b[43mmentor\u001b[49m\u001b[43m(\u001b[49m\u001b[43m)\u001b[49m\n",
      "\u001b[31mTypeError\u001b[39m: Can't instantiate abstract class mentor with abstract method teach"
     ]
    }
   ],
   "source": [
    "m = mentor()"
   ]
  },
  {
   "cell_type": "code",
   "execution_count": 7,
   "id": "7a076e52",
   "metadata": {},
   "outputs": [],
   "source": [
    "em = euronmentor()"
   ]
  },
  {
   "cell_type": "code",
   "execution_count": 8,
   "id": "a432ba4c",
   "metadata": {},
   "outputs": [
    {
     "data": {
      "text/plain": [
       "'this is my teach method'"
      ]
     },
     "execution_count": 8,
     "metadata": {},
     "output_type": "execute_result"
    }
   ],
   "source": [
    "em.teach()"
   ]
  },
  {
   "cell_type": "code",
   "execution_count": 9,
   "id": "4116a6ab",
   "metadata": {},
   "outputs": [],
   "source": [
    "class course(ABC):\n",
    "    @abstractmethod\n",
    "    def content(self):\n",
    "        pass\n",
    "    \n",
    "    @abstractmethod\n",
    "    def duration(self):pass"
   ]
  },
  {
   "cell_type": "code",
   "execution_count": 10,
   "id": "09e72234",
   "metadata": {},
   "outputs": [],
   "source": [
    "class pythoncourse(course):\n",
    "    def content(self):\n",
    "        return \"this method will give you content\"\n",
    "    \n",
    "    def duration(self):\n",
    "        return \"duratoin of python cousre is 3 mnths\""
   ]
  },
  {
   "cell_type": "code",
   "execution_count": 11,
   "id": "5eeff44b",
   "metadata": {},
   "outputs": [
    {
     "data": {
      "text/plain": [
       "'this method will give you content'"
      ]
     },
     "execution_count": 11,
     "metadata": {},
     "output_type": "execute_result"
    }
   ],
   "source": [
    "pc = pythoncourse()\n",
    "pc.duration()\n",
    "pc.content()"
   ]
  },
  {
   "cell_type": "code",
   "execution_count": 12,
   "id": "0448c1b4",
   "metadata": {},
   "outputs": [
    {
     "data": {
      "text/plain": [
       "'duratoin of python cousre is 3 mnths'"
      ]
     },
     "execution_count": 12,
     "metadata": {},
     "output_type": "execute_result"
    }
   ],
   "source": [
    "pc.duration()"
   ]
  },
  {
   "cell_type": "code",
   "execution_count": 13,
   "id": "c2308acd",
   "metadata": {},
   "outputs": [],
   "source": [
    "class plateform(ABC):\n",
    "    @abstractmethod\n",
    "    def login(self):\n",
    "        pass\n",
    "    \n",
    "    def welcome(self):\n",
    "        print(\"welcome to euron\")"
   ]
  },
  {
   "cell_type": "code",
   "execution_count": 15,
   "id": "a858e892",
   "metadata": {},
   "outputs": [
    {
     "ename": "TypeError",
     "evalue": "Can't instantiate abstract class plateform with abstract method login",
     "output_type": "error",
     "traceback": [
      "\u001b[31m---------------------------------------------------------------------------\u001b[39m",
      "\u001b[31mTypeError\u001b[39m                                 Traceback (most recent call last)",
      "\u001b[36mCell\u001b[39m\u001b[36m \u001b[39m\u001b[32mIn[15]\u001b[39m\u001b[32m, line 1\u001b[39m\n\u001b[32m----> \u001b[39m\u001b[32m1\u001b[39m pl = \u001b[43mplateform\u001b[49m\u001b[43m(\u001b[49m\u001b[43m)\u001b[49m\n",
      "\u001b[31mTypeError\u001b[39m: Can't instantiate abstract class plateform with abstract method login"
     ]
    }
   ],
   "source": [
    "pl = plateform()"
   ]
  },
  {
   "cell_type": "code",
   "execution_count": 16,
   "id": "be93322e",
   "metadata": {},
   "outputs": [],
   "source": [
    "class euronUser(plateform):\n",
    "    def login(self):\n",
    "        return \"this is my login code\"\n",
    "    "
   ]
  },
  {
   "cell_type": "code",
   "execution_count": 17,
   "id": "33580a3e",
   "metadata": {},
   "outputs": [],
   "source": [
    "eu = euronUser()"
   ]
  },
  {
   "cell_type": "code",
   "execution_count": 18,
   "id": "0ad4269f",
   "metadata": {},
   "outputs": [
    {
     "data": {
      "text/plain": [
       "'this is my login code'"
      ]
     },
     "execution_count": 18,
     "metadata": {},
     "output_type": "execute_result"
    }
   ],
   "source": [
    "eu.login()"
   ]
  },
  {
   "cell_type": "code",
   "execution_count": 19,
   "id": "dac045d1",
   "metadata": {},
   "outputs": [
    {
     "name": "stdout",
     "output_type": "stream",
     "text": [
      "welcome to euron\n"
     ]
    }
   ],
   "source": [
    "eu.welcome()"
   ]
  },
  {
   "cell_type": "code",
   "execution_count": null,
   "id": "316025f4",
   "metadata": {},
   "outputs": [],
   "source": []
  }
 ],
 "metadata": {
  "kernelspec": {
   "display_name": "agentdemo",
   "language": "python",
   "name": "python3"
  },
  "language_info": {
   "codemirror_mode": {
    "name": "ipython",
    "version": 3
   },
   "file_extension": ".py",
   "mimetype": "text/x-python",
   "name": "python",
   "nbconvert_exporter": "python",
   "pygments_lexer": "ipython3",
   "version": "3.11.11"
  }
 },
 "nbformat": 4,
 "nbformat_minor": 5
}
