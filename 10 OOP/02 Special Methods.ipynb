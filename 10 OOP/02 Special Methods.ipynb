{
 "cells": [
  {
   "cell_type": "code",
   "execution_count": 2,
   "id": "b9794f45",
   "metadata": {},
   "outputs": [],
   "source": [
    "class course:\n",
    "    def __init__(self,title,mentor):\n",
    "        self.title = title\n",
    "        self.mentor = mentor"
   ]
  },
  {
   "cell_type": "code",
   "execution_count": 3,
   "id": "d0e653e5",
   "metadata": {},
   "outputs": [],
   "source": [
    "a = course(\"pyton\",\"sudh\")"
   ]
  },
  {
   "cell_type": "code",
   "execution_count": 4,
   "id": "74fcdf42",
   "metadata": {},
   "outputs": [
    {
     "data": {
      "text/plain": [
       "'pyton'"
      ]
     },
     "execution_count": 4,
     "metadata": {},
     "output_type": "execute_result"
    }
   ],
   "source": [
    "a.title"
   ]
  },
  {
   "cell_type": "code",
   "execution_count": 5,
   "id": "2235fa23",
   "metadata": {},
   "outputs": [
    {
     "data": {
      "text/plain": [
       "'sudh'"
      ]
     },
     "execution_count": 5,
     "metadata": {},
     "output_type": "execute_result"
    }
   ],
   "source": [
    "a.mentor"
   ]
  },
  {
   "cell_type": "code",
   "execution_count": 8,
   "id": "c9ca68f9",
   "metadata": {},
   "outputs": [],
   "source": [
    "class course:\n",
    "    def __init__(self,title,mentor):\n",
    "        self.title = title\n",
    "        self.mentor = mentor\n",
    "        \n",
    "    def __str__(self):\n",
    "        return f\"my name is sudh\""
   ]
  },
  {
   "cell_type": "code",
   "execution_count": 9,
   "id": "e3e26f69",
   "metadata": {},
   "outputs": [],
   "source": [
    "a = course(\"python\" , \"sudh\")"
   ]
  },
  {
   "cell_type": "code",
   "execution_count": 10,
   "id": "b77d2c8c",
   "metadata": {},
   "outputs": [
    {
     "name": "stdout",
     "output_type": "stream",
     "text": [
      "my name is sudh\n"
     ]
    }
   ],
   "source": [
    "print(a)"
   ]
  },
  {
   "cell_type": "code",
   "execution_count": 2,
   "id": "c2cf6de5",
   "metadata": {},
   "outputs": [],
   "source": [
    "class course:\n",
    "    def __init__(self,title,mentor):\n",
    "        self.title = title\n",
    "        self.mentor = mentor"
   ]
  },
  {
   "cell_type": "code",
   "execution_count": 3,
   "id": "466d4d75",
   "metadata": {},
   "outputs": [],
   "source": [
    "a = course(\"python\" , \"sudh\")"
   ]
  },
  {
   "cell_type": "code",
   "execution_count": 4,
   "id": "fabc60c2",
   "metadata": {},
   "outputs": [
    {
     "name": "stdout",
     "output_type": "stream",
     "text": [
      "<__main__.course object at 0x0000023C6D755790>\n"
     ]
    }
   ],
   "source": [
    "print(a)"
   ]
  },
  {
   "cell_type": "code",
   "execution_count": 17,
   "id": "80ea22de",
   "metadata": {},
   "outputs": [],
   "source": [
    "class course:\n",
    "    def __init__(self,title,mentor):\n",
    "        self.title = title\n",
    "        self.mentor = mentor\n",
    "        \n",
    "    def __str__(self):\n",
    "        return f\"my name is sudh\"\n",
    "    \n",
    "    def __eq__(self, value):\n",
    "        return self.title == value.title"
   ]
  },
  {
   "cell_type": "code",
   "execution_count": 22,
   "id": "d7b1b10e",
   "metadata": {},
   "outputs": [],
   "source": [
    "a= course(\"python\",\"sudh\")\n",
    "b = course(\"pythonfdfsa\",\"sudh\")"
   ]
  },
  {
   "cell_type": "code",
   "execution_count": 23,
   "id": "2db1222a",
   "metadata": {},
   "outputs": [
    {
     "data": {
      "text/plain": [
       "False"
      ]
     },
     "execution_count": 23,
     "metadata": {},
     "output_type": "execute_result"
    }
   ],
   "source": [
    "a==b"
   ]
  },
  {
   "cell_type": "code",
   "execution_count": 24,
   "id": "a648fbca",
   "metadata": {},
   "outputs": [],
   "source": [
    "class course:\n",
    "    def __init__(self,title,mentor):\n",
    "        self.title = title\n",
    "        self.mentor = mentor\n",
    "        \n",
    "    def __str__(self):\n",
    "        return f\"my name is sudh\"\n",
    "    \n",
    "    def __eq__(self, value):\n",
    "        return self.title == value.title\n",
    "    \n",
    "    def __len__(self):\n",
    "        return self.title"
   ]
  },
  {
   "cell_type": "code",
   "execution_count": 25,
   "id": "c14d8ee3",
   "metadata": {},
   "outputs": [],
   "source": [
    "a = course([\"python\",\"data science\",\"generative ai\"],\"sudh\")"
   ]
  },
  {
   "cell_type": "code",
   "execution_count": 27,
   "id": "ecc67d13",
   "metadata": {},
   "outputs": [
    {
     "data": {
      "text/plain": [
       "3"
      ]
     },
     "execution_count": 27,
     "metadata": {},
     "output_type": "execute_result"
    }
   ],
   "source": [
    "len(a.title)"
   ]
  },
  {
   "cell_type": "code",
   "execution_count": 28,
   "id": "64497e34",
   "metadata": {},
   "outputs": [],
   "source": [
    "class course:\n",
    "    def __init__(self,title,mentor):\n",
    "        self.title = title\n",
    "        self.mentor = mentor\n",
    "        \n",
    "    def __str__(self):\n",
    "        return f\"my name is sudh\"\n",
    "    \n",
    "    def __eq__(self, value):\n",
    "        return self.title == value.title\n",
    "    \n",
    "    def __len__(self):\n",
    "        return self.title\n",
    "    \n",
    "    def __del__(self):\n",
    "        print(\"delete the object\")"
   ]
  },
  {
   "cell_type": "code",
   "execution_count": 29,
   "id": "de3d2ffd",
   "metadata": {},
   "outputs": [],
   "source": [
    "a = course(\"python\",\"sudh\")"
   ]
  },
  {
   "cell_type": "code",
   "execution_count": 30,
   "id": "5512cc58",
   "metadata": {},
   "outputs": [],
   "source": [
    "del a "
   ]
  },
  {
   "cell_type": "code",
   "execution_count": 31,
   "id": "ce7a4809",
   "metadata": {},
   "outputs": [
    {
     "name": "stdout",
     "output_type": "stream",
     "text": [
      "delete the object\n"
     ]
    },
    {
     "ename": "NameError",
     "evalue": "name 'a' is not defined",
     "output_type": "error",
     "traceback": [
      "\u001b[31m---------------------------------------------------------------------------\u001b[39m",
      "\u001b[31mNameError\u001b[39m                                 Traceback (most recent call last)",
      "\u001b[36mCell\u001b[39m\u001b[36m \u001b[39m\u001b[32mIn[31]\u001b[39m\u001b[32m, line 1\u001b[39m\n\u001b[32m----> \u001b[39m\u001b[32m1\u001b[39m \u001b[43ma\u001b[49m.title\n",
      "\u001b[31mNameError\u001b[39m: name 'a' is not defined"
     ]
    }
   ],
   "source": [
    "a.title"
   ]
  },
  {
   "cell_type": "code",
   "execution_count": 32,
   "id": "fdabb87d",
   "metadata": {},
   "outputs": [],
   "source": [
    "class course:\n",
    "    def __init__(self,title,mentor):\n",
    "        self.title = title\n",
    "        self.mentor = mentor\n",
    "        \n",
    "    def __str__(self):\n",
    "        return f\"my name is sudh\"\n",
    "    \n",
    "    def __eq__(self, value):\n",
    "        return self.title == value.title\n",
    "    \n",
    "    def __len__(self):\n",
    "        return self.title\n",
    "    \n",
    "    def __del__(self):\n",
    "        print(\"delete the object\")\n",
    "        \n",
    "    def __call__(self, *args, **kwds):\n",
    "        return f\"{self.title} , {self.mentor} ,{args} ,{kwds} \""
   ]
  },
  {
   "cell_type": "code",
   "execution_count": 33,
   "id": "18d247f2",
   "metadata": {},
   "outputs": [],
   "source": [
    "a = course(\"python\",\"sudh\")"
   ]
  },
  {
   "cell_type": "code",
   "execution_count": 34,
   "id": "b17ee9a7",
   "metadata": {},
   "outputs": [
    {
     "data": {
      "text/plain": [
       "'python'"
      ]
     },
     "execution_count": 34,
     "metadata": {},
     "output_type": "execute_result"
    }
   ],
   "source": [
    "a.title"
   ]
  },
  {
   "cell_type": "code",
   "execution_count": 35,
   "id": "9169b0c4",
   "metadata": {},
   "outputs": [
    {
     "data": {
      "text/plain": [
       "'sudh'"
      ]
     },
     "execution_count": 35,
     "metadata": {},
     "output_type": "execute_result"
    }
   ],
   "source": [
    "a.mentor"
   ]
  },
  {
   "cell_type": "code",
   "execution_count": 36,
   "id": "a6517b36",
   "metadata": {},
   "outputs": [
    {
     "data": {
      "text/plain": [
       "\"python , sudh ,(4, 5, 6, 7) ,{'a': 345} \""
      ]
     },
     "execution_count": 36,
     "metadata": {},
     "output_type": "execute_result"
    }
   ],
   "source": [
    "a(4,5,6,7,a = 345)"
   ]
  },
  {
   "cell_type": "code",
   "execution_count": null,
   "id": "fde69ed9",
   "metadata": {},
   "outputs": [],
   "source": []
  }
 ],
 "metadata": {
  "kernelspec": {
   "display_name": "agentdemo",
   "language": "python",
   "name": "python3"
  },
  "language_info": {
   "codemirror_mode": {
    "name": "ipython",
    "version": 3
   },
   "file_extension": ".py",
   "mimetype": "text/x-python",
   "name": "python",
   "nbconvert_exporter": "python",
   "pygments_lexer": "ipython3",
   "version": "3.11.11"
  }
 },
 "nbformat": 4,
 "nbformat_minor": 5
}
