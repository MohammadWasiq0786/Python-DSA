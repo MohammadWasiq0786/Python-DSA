{
 "cells": [
  {
   "cell_type": "markdown",
   "id": "17c1a69c",
   "metadata": {},
   "source": [
    "| Level Name | Numeric Value | Purpose / When to Use                                      |\n",
    "| ---------- | ------------- | ---------------------------------------------------------- |\n",
    "| `DEBUG`    | 10            | For detailed diagnostic information (developer-level logs) |\n",
    "| `INFO`     | 20            | General events, confirmations, or status updates           |\n",
    "| `WARNING`  | 30            | Something unexpected or potentially problematic            |\n",
    "| `ERROR`    | 40            | A serious issue, the program may still run                 |\n",
    "| `CRITICAL` | 50            | Very serious error; program might not continue             |\n"
   ]
  },
  {
   "cell_type": "code",
   "execution_count": 1,
   "id": "2d439ead",
   "metadata": {},
   "outputs": [],
   "source": [
    "import logging"
   ]
  },
  {
   "cell_type": "code",
   "execution_count": 2,
   "id": "11c6e409",
   "metadata": {},
   "outputs": [],
   "source": [
    "logging.basicConfig(level=logging.WARNING,filename='test.log')"
   ]
  },
  {
   "cell_type": "code",
   "execution_count": 3,
   "id": "4571f0d8",
   "metadata": {},
   "outputs": [],
   "source": [
    "\n",
    "logging.warning(\"this is a warning msg\")\n",
    "logging.error(\"this is a error msg\")\n",
    "logging.critical(\"this is a critical msg\")\n",
    "logging.debug(\"this is a debug msg\")\n",
    "logging.info(\"this is a n\\infof msg\")"
   ]
  },
  {
   "cell_type": "code",
   "execution_count": 2,
   "id": "da010c20",
   "metadata": {},
   "outputs": [],
   "source": [
    "import logging\n",
    "logger  = logging.getLogger(\"mytestlogger\")\n",
    "logger.setLevel(logging.DEBUG)\n",
    "handler = logging.StreamHandler()\n",
    "formatter = logging.Formatter('%(asctime)s - %(name)s - %(levelname)s - %(message)s')\n",
    "handler.setFormatter(formatter)\n",
    "logger.addHandler(handler)\n",
    "file_handler = logging.FileHandler(\"my_test_data.log\",mode='a')\n",
    "file_handler.setFormatter(formatter)\n",
    "logger.addHandler(file_handler)"
   ]
  },
  {
   "cell_type": "code",
   "execution_count": 3,
   "id": "132e01bc",
   "metadata": {},
   "outputs": [
    {
     "name": "stderr",
     "output_type": "stream",
     "text": [
      "2025-07-09 21:21:17,598 - mytestlogger - INFO - my name is sudhanshu\n",
      "2025-07-09 21:21:17,599 - mytestlogger - DEBUG - i am debugging my code\n"
     ]
    }
   ],
   "source": [
    "logger.info(\"my name is sudhanshu\")\n",
    "logger.debug(\"i am debugging my code\")"
   ]
  },
  {
   "cell_type": "code",
   "execution_count": 4,
   "id": "bd432726",
   "metadata": {},
   "outputs": [],
   "source": [
    "import logging\n",
    "logger  = logging.getLogger(\"mytestlogger\")\n",
    "logger.setLevel(logging.DEBUG)\n",
    "handler = logging.StreamHandler()\n",
    "formatter = logging.Formatter('%(asctime)s - %(name)s - %(levelname)s - %(message)s')\n",
    "handler.setFormatter(formatter)\n",
    "logger.addHandler(handler)\n",
    "file_handler = logging.FileHandler(\"my_function_log.log\",mode='a')\n",
    "file_handler.setFormatter(formatter)\n",
    "logger.addHandler(file_handler)"
   ]
  },
  {
   "cell_type": "code",
   "execution_count": 9,
   "id": "193743ba",
   "metadata": {},
   "outputs": [],
   "source": [
    "def addition(a,b):\n",
    "    logger.info(f\" value of a is {a} and b is {b}\")\n",
    "    logger.info(f\"we are doing a calculation operation by doing a addioin of {a} and {b}\")\n",
    "    logger.info(f\"it will return {a} + {b}\")\n",
    "    return a+b"
   ]
  },
  {
   "cell_type": "code",
   "execution_count": 18,
   "id": "e9139254",
   "metadata": {},
   "outputs": [
    {
     "name": "stderr",
     "output_type": "stream",
     "text": [
      "2025-07-09 21:25:25,948 - mytestlogger - INFO -  value of a is 3 and b is 4\n",
      "2025-07-09 21:25:25,948 - mytestlogger - INFO -  value of a is 3 and b is 4\n",
      "2025-07-09 21:25:25,949 - mytestlogger - INFO - we are doing a calculation operation by doing a addioin of 3 and 4\n",
      "2025-07-09 21:25:25,949 - mytestlogger - INFO - we are doing a calculation operation by doing a addioin of 3 and 4\n",
      "2025-07-09 21:25:25,950 - mytestlogger - INFO - it will return 3 + 4\n",
      "2025-07-09 21:25:25,950 - mytestlogger - INFO - it will return 3 + 4\n"
     ]
    },
    {
     "data": {
      "text/plain": [
       "7"
      ]
     },
     "execution_count": 18,
     "metadata": {},
     "output_type": "execute_result"
    }
   ],
   "source": [
    "addition(3,4)"
   ]
  },
  {
   "cell_type": "code",
   "execution_count": null,
   "id": "ab58110b",
   "metadata": {},
   "outputs": [],
   "source": [
    "import logging\n",
    "\n",
    "logging.basicConfig(level=logging.INFO)\n",
    "\n",
    "logging.debug(\"This is a DEBUG message.\")\n",
    "logging.info(\"This is an INFO message.\")\n",
    "logging.warning(\"This is a WARNING message.\")\n",
    "logging.error(\"This is an ERROR message.\")\n",
    "logging.critical(\"This is a CRITICAL message.\")\n"
   ]
  },
  {
   "cell_type": "code",
   "execution_count": null,
   "id": "4ddd42e4",
   "metadata": {},
   "outputs": [],
   "source": []
  }
 ],
 "metadata": {
  "kernelspec": {
   "display_name": "agentdemo",
   "language": "python",
   "name": "python3"
  },
  "language_info": {
   "codemirror_mode": {
    "name": "ipython",
    "version": 3
   },
   "file_extension": ".py",
   "mimetype": "text/x-python",
   "name": "python",
   "nbconvert_exporter": "python",
   "pygments_lexer": "ipython3",
   "version": "3.11.11"
  }
 },
 "nbformat": 4,
 "nbformat_minor": 5
}
