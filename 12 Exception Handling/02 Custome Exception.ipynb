{
 "cells": [
  {
   "cell_type": "code",
   "execution_count": 7,
   "id": "1b85bda1",
   "metadata": {},
   "outputs": [],
   "source": [
    "def check_input(a):\n",
    "    if a < 0 :\n",
    "        raise ValueError(\"you should enter value more than zero\")"
   ]
  },
  {
   "cell_type": "code",
   "execution_count": 2,
   "id": "8cbe3150",
   "metadata": {},
   "outputs": [],
   "source": [
    "check_input(67)"
   ]
  },
  {
   "cell_type": "code",
   "execution_count": 3,
   "id": "f53c2287",
   "metadata": {},
   "outputs": [
    {
     "ename": "ValueError",
     "evalue": "you should enter value more than zero",
     "output_type": "error",
     "traceback": [
      "\u001b[31m---------------------------------------------------------------------------\u001b[39m",
      "\u001b[31mValueError\u001b[39m                                Traceback (most recent call last)",
      "\u001b[36mCell\u001b[39m\u001b[36m \u001b[39m\u001b[32mIn[3]\u001b[39m\u001b[32m, line 1\u001b[39m\n\u001b[32m----> \u001b[39m\u001b[32m1\u001b[39m \u001b[43mcheck_input\u001b[49m\u001b[43m(\u001b[49m\u001b[43m-\u001b[49m\u001b[32;43m67\u001b[39;49m\u001b[43m)\u001b[49m\n",
      "\u001b[36mCell\u001b[39m\u001b[36m \u001b[39m\u001b[32mIn[1]\u001b[39m\u001b[32m, line 3\u001b[39m, in \u001b[36mcheck_input\u001b[39m\u001b[34m(a)\u001b[39m\n\u001b[32m      1\u001b[39m \u001b[38;5;28;01mdef\u001b[39;00m\u001b[38;5;250m \u001b[39m\u001b[34mcheck_input\u001b[39m(a):\n\u001b[32m      2\u001b[39m     \u001b[38;5;28;01mif\u001b[39;00m a < \u001b[32m0\u001b[39m :\n\u001b[32m----> \u001b[39m\u001b[32m3\u001b[39m         \u001b[38;5;28;01mraise\u001b[39;00m \u001b[38;5;167;01mValueError\u001b[39;00m(\u001b[33m\"\u001b[39m\u001b[33myou should enter value more than zero\u001b[39m\u001b[33m\"\u001b[39m)\n",
      "\u001b[31mValueError\u001b[39m: you should enter value more than zero"
     ]
    }
   ],
   "source": [
    "check_input(-67)"
   ]
  },
  {
   "cell_type": "code",
   "execution_count": 4,
   "id": "e478d9f7",
   "metadata": {},
   "outputs": [],
   "source": [
    "def check_input(a):\n",
    "    if a < 0 :\n",
    "        raise xyz(\"you should enter value more than zero\")"
   ]
  },
  {
   "cell_type": "code",
   "execution_count": 6,
   "id": "21584627",
   "metadata": {},
   "outputs": [
    {
     "ename": "NameError",
     "evalue": "name 'xyz' is not defined",
     "output_type": "error",
     "traceback": [
      "\u001b[31m---------------------------------------------------------------------------\u001b[39m",
      "\u001b[31mNameError\u001b[39m                                 Traceback (most recent call last)",
      "\u001b[36mCell\u001b[39m\u001b[36m \u001b[39m\u001b[32mIn[6]\u001b[39m\u001b[32m, line 1\u001b[39m\n\u001b[32m----> \u001b[39m\u001b[32m1\u001b[39m \u001b[43mcheck_input\u001b[49m\u001b[43m(\u001b[49m\u001b[43m-\u001b[49m\u001b[32;43m4\u001b[39;49m\u001b[43m)\u001b[49m\n",
      "\u001b[36mCell\u001b[39m\u001b[36m \u001b[39m\u001b[32mIn[4]\u001b[39m\u001b[32m, line 3\u001b[39m, in \u001b[36mcheck_input\u001b[39m\u001b[34m(a)\u001b[39m\n\u001b[32m      1\u001b[39m \u001b[38;5;28;01mdef\u001b[39;00m\u001b[38;5;250m \u001b[39m\u001b[34mcheck_input\u001b[39m(a):\n\u001b[32m      2\u001b[39m     \u001b[38;5;28;01mif\u001b[39;00m a < \u001b[32m0\u001b[39m :\n\u001b[32m----> \u001b[39m\u001b[32m3\u001b[39m         \u001b[38;5;28;01mraise\u001b[39;00m \u001b[43mxyz\u001b[49m(\u001b[33m\"\u001b[39m\u001b[33myou should enter value more than zero\u001b[39m\u001b[33m\"\u001b[39m)\n",
      "\u001b[31mNameError\u001b[39m: name 'xyz' is not defined"
     ]
    }
   ],
   "source": [
    "check_input(-4)"
   ]
  },
  {
   "cell_type": "code",
   "execution_count": 1,
   "id": "93dd8e44",
   "metadata": {},
   "outputs": [],
   "source": [
    "def check_input(a):\n",
    "    if a < 0 :\n",
    "        raise ValueError(\"you should enter value more than zero\")"
   ]
  },
  {
   "cell_type": "code",
   "execution_count": 2,
   "id": "1ba3a8cc",
   "metadata": {},
   "outputs": [
    {
     "name": "stdout",
     "output_type": "stream",
     "text": [
      "you should enter value more than zero\n"
     ]
    }
   ],
   "source": [
    "try:\n",
    "    check_input(-4)\n",
    "    \n",
    "except ValueError as e :\n",
    "    print(e)"
   ]
  },
  {
   "cell_type": "code",
   "execution_count": 5,
   "id": "a132ba20",
   "metadata": {},
   "outputs": [],
   "source": [
    "class xyz(Exception):\n",
    "    pass\n",
    "    "
   ]
  },
  {
   "cell_type": "code",
   "execution_count": 6,
   "id": "53b08e28",
   "metadata": {},
   "outputs": [],
   "source": [
    "def register(age):\n",
    "    if age<0:\n",
    "        raise xyz(\"age can't be negative\")"
   ]
  },
  {
   "cell_type": "code",
   "execution_count": 7,
   "id": "93971929",
   "metadata": {},
   "outputs": [
    {
     "name": "stdout",
     "output_type": "stream",
     "text": [
      "age can't be negative\n"
     ]
    }
   ],
   "source": [
    "try :\n",
    "    register(-87)\n",
    "except xyz as e :\n",
    "    print(e)"
   ]
  },
  {
   "cell_type": "code",
   "execution_count": 8,
   "id": "b6c8ab55",
   "metadata": {},
   "outputs": [],
   "source": [
    "class Toosortpassword(Exception):\n",
    "    def __init__(self,length):\n",
    "        self.lenght = length\n",
    "        super().__init__(f\"password is too sort {length}\")\n",
    "    "
   ]
  },
  {
   "cell_type": "code",
   "execution_count": 11,
   "id": "d6513ac0",
   "metadata": {},
   "outputs": [],
   "source": [
    "def validate_password_length(password):\n",
    "    if len(password)<8:\n",
    "        raise Toosortpassword(len(password))\n",
    "    print(\"passwod is valid\")"
   ]
  },
  {
   "cell_type": "code",
   "execution_count": 13,
   "id": "0e943057",
   "metadata": {},
   "outputs": [
    {
     "name": "stdout",
     "output_type": "stream",
     "text": [
      "password is too sort 2\n"
     ]
    }
   ],
   "source": [
    "try:\n",
    "   validate_password_length(\"34\")\n",
    "except Toosortpassword as e :\n",
    "    print(e)"
   ]
  },
  {
   "cell_type": "code",
   "execution_count": 15,
   "id": "942ccdce",
   "metadata": {},
   "outputs": [
    {
     "ename": "AssertionError",
     "evalue": "age cant be negative",
     "output_type": "error",
     "traceback": [
      "\u001b[31m---------------------------------------------------------------------------\u001b[39m",
      "\u001b[31mAssertionError\u001b[39m                            Traceback (most recent call last)",
      "\u001b[36mCell\u001b[39m\u001b[36m \u001b[39m\u001b[32mIn[15]\u001b[39m\u001b[32m, line 2\u001b[39m\n\u001b[32m      1\u001b[39m age = -\u001b[32m1\u001b[39m\n\u001b[32m----> \u001b[39m\u001b[32m2\u001b[39m \u001b[38;5;28;01massert\u001b[39;00m age >= \u001b[32m0\u001b[39m ,\u001b[33m\"\u001b[39m\u001b[33mage cant be negative\u001b[39m\u001b[33m\"\u001b[39m\n",
      "\u001b[31mAssertionError\u001b[39m: age cant be negative"
     ]
    }
   ],
   "source": [
    "age = -1\n",
    "assert age >= 0 ,\"age cant be negative\""
   ]
  },
  {
   "cell_type": "code",
   "execution_count": null,
   "id": "06c61145",
   "metadata": {},
   "outputs": [],
   "source": []
  }
 ],
 "metadata": {
  "kernelspec": {
   "display_name": "agentdemo",
   "language": "python",
   "name": "python3"
  },
  "language_info": {
   "codemirror_mode": {
    "name": "ipython",
    "version": 3
   },
   "file_extension": ".py",
   "mimetype": "text/x-python",
   "name": "python",
   "nbconvert_exporter": "python",
   "pygments_lexer": "ipython3",
   "version": "3.11.11"
  }
 },
 "nbformat": 4,
 "nbformat_minor": 5
}
